{
  "nbformat": 4,
  "nbformat_minor": 0,
  "metadata": {
    "colab": {
      "name": "Decision trees as base learners.ipynb",
      "version": "0.3.2",
      "provenance": [],
      "include_colab_link": true
    },
    "kernelspec": {
      "name": "python3",
      "display_name": "Python 3"
    }
  },
  "cells": [
    {
      "cell_type": "markdown",
      "metadata": {
        "id": "view-in-github",
        "colab_type": "text"
      },
      "source": [
        "<a href=\"https://colab.research.google.com/github/gisandnes/Extreme-Gradient-Boosting-with-XGBoost_DataCamp/blob/master/Decision_trees_as_base_learners.ipynb\" target=\"_parent\"><img src=\"https://colab.research.google.com/assets/colab-badge.svg\" alt=\"Open In Colab\"/></a>"
      ]
    },
    {
      "metadata": {
        "id": "GbrScWqBNJRO",
        "colab_type": "text"
      },
      "cell_type": "markdown",
      "source": [
        "##Decision trees as base learners"
      ]
    },
    {
      "metadata": {
        "id": "M9AuYYK_NGXy",
        "colab_type": "text"
      },
      "cell_type": "markdown",
      "source": [
        "Decision trees as base learners"
      ]
    },
    {
      "metadata": {
        "id": "rxRA0LeLNHca",
        "colab_type": "code",
        "outputId": "9700a303-041c-4df3-8a50-64664cc6efc8",
        "colab": {
          "base_uri": "https://localhost:8080/",
          "height": 54
        }
      },
      "cell_type": "code",
      "source": [
        "!mkdir -p data #Make folders for downloads\n",
        "\n",
        "#!wget --no-verbose https://raw.githubusercontent.com/gisandnes/Extreme-Gradient-Boosting-with-XGBoost_DataCamp/master/data/chronic_kidney_disease.csv -O ./data/chronic_kidney_disease.csv\n",
        "#!wget --no-verbose https://raw.githubusercontent.com/gisandnes/Extreme-Gradient-Boosting-with-XGBoost_DataCamp/master/data/ames_unprocessed_data.csv -O ./data/ames_unprocessed_data.csv \n",
        "!wget --no-verbose https://raw.githubusercontent.com/gisandnes/Extreme-Gradient-Boosting-with-XGBoost_DataCamp/master/data/ames_housing_trimmed_processed.csv -O ./data/ames_housing_trimmed_processed.csv"
      ],
      "execution_count": 1,
      "outputs": [
        {
          "output_type": "stream",
          "text": [
            "2019-01-11 09:17:14 URL:https://raw.githubusercontent.com/gisandnes/Extreme-Gradient-Boosting-with-XGBoost_DataCamp/master/data/ames_housing_trimmed_processed.csv [196754/196754] -> \"./data/ames_housing_trimmed_processed.csv\" [1]\n"
          ],
          "name": "stdout"
        }
      ]
    },
    {
      "metadata": {
        "id": "C3yNOYfaNU3x",
        "colab_type": "code",
        "colab": {}
      },
      "cell_type": "code",
      "source": [
        "from IPython.display import display\n",
        "import matplotlib\n",
        "import matplotlib.pyplot as plt \n",
        "import numpy as np\n",
        "import pandas as pd\n",
        "from sklearn.metrics import mean_squared_error\n",
        "from sklearn.model_selection import train_test_split\n",
        "import xgboost as xgb\n",
        "\n",
        "%matplotlib inline"
      ],
      "execution_count": 0,
      "outputs": []
    },
    {
      "metadata": {
        "id": "oWRya4baMqxu",
        "colab_type": "code",
        "colab": {
          "base_uri": "https://localhost:8080/",
          "height": 390
        },
        "outputId": "b1901a43-95a8-4c3f-faa4-0a7d94d4255f"
      },
      "cell_type": "code",
      "source": [
        "ames_processed  = pd.read_csv(\"./data/ames_housing_trimmed_processed.csv\")\n",
        "\n",
        "display(ames_processed.describe())\n",
        "\n",
        "features = ames_processed.loc[:,\"MSSubClass\":\"PavedDrive_Y\"]\n",
        "response = ames_processed.loc[:,\"SalePrice\"]\n",
        "\n",
        "colnames = features.columns.tolist()\n",
        "#list(features.columns)\n",
        "\n",
        "print(\"Column names: {}\".format(colnames))\n",
        "\n",
        "X = features.values #Numpy array\n",
        "y = response.values #Numpy array\n",
        "\n",
        "print(\"X.shape: {}\".format(X.shape))\n",
        "print(\"y.shape: {}\".format(y.shape))"
      ],
      "execution_count": 335,
      "outputs": [
        {
          "output_type": "display_data",
          "data": {
            "text/html": [
              "<div>\n",
              "<style scoped>\n",
              "    .dataframe tbody tr th:only-of-type {\n",
              "        vertical-align: middle;\n",
              "    }\n",
              "\n",
              "    .dataframe tbody tr th {\n",
              "        vertical-align: top;\n",
              "    }\n",
              "\n",
              "    .dataframe thead th {\n",
              "        text-align: right;\n",
              "    }\n",
              "</style>\n",
              "<table border=\"1\" class=\"dataframe\">\n",
              "  <thead>\n",
              "    <tr style=\"text-align: right;\">\n",
              "      <th></th>\n",
              "      <th>MSSubClass</th>\n",
              "      <th>LotFrontage</th>\n",
              "      <th>LotArea</th>\n",
              "      <th>OverallQual</th>\n",
              "      <th>OverallCond</th>\n",
              "      <th>YearBuilt</th>\n",
              "      <th>Remodeled</th>\n",
              "      <th>GrLivArea</th>\n",
              "      <th>BsmtFullBath</th>\n",
              "      <th>BsmtHalfBath</th>\n",
              "      <th>...</th>\n",
              "      <th>HouseStyle_1.5Unf</th>\n",
              "      <th>HouseStyle_1Story</th>\n",
              "      <th>HouseStyle_2.5Fin</th>\n",
              "      <th>HouseStyle_2.5Unf</th>\n",
              "      <th>HouseStyle_2Story</th>\n",
              "      <th>HouseStyle_SFoyer</th>\n",
              "      <th>HouseStyle_SLvl</th>\n",
              "      <th>PavedDrive_P</th>\n",
              "      <th>PavedDrive_Y</th>\n",
              "      <th>SalePrice</th>\n",
              "    </tr>\n",
              "  </thead>\n",
              "  <tbody>\n",
              "    <tr>\n",
              "      <th>count</th>\n",
              "      <td>1460.000000</td>\n",
              "      <td>1460.000000</td>\n",
              "      <td>1460.000000</td>\n",
              "      <td>1460.000000</td>\n",
              "      <td>1460.000000</td>\n",
              "      <td>1460.000000</td>\n",
              "      <td>1460.000000</td>\n",
              "      <td>1460.000000</td>\n",
              "      <td>1460.000000</td>\n",
              "      <td>1460.000000</td>\n",
              "      <td>...</td>\n",
              "      <td>1460.000000</td>\n",
              "      <td>1460.000000</td>\n",
              "      <td>1460.000000</td>\n",
              "      <td>1460.000000</td>\n",
              "      <td>1460.000000</td>\n",
              "      <td>1460.000000</td>\n",
              "      <td>1460.000000</td>\n",
              "      <td>1460.000000</td>\n",
              "      <td>1460.000000</td>\n",
              "      <td>1460.000000</td>\n",
              "    </tr>\n",
              "    <tr>\n",
              "      <th>mean</th>\n",
              "      <td>56.897260</td>\n",
              "      <td>57.623288</td>\n",
              "      <td>10516.828082</td>\n",
              "      <td>6.099315</td>\n",
              "      <td>5.575342</td>\n",
              "      <td>1971.267808</td>\n",
              "      <td>0.476712</td>\n",
              "      <td>1515.463699</td>\n",
              "      <td>0.425342</td>\n",
              "      <td>0.057534</td>\n",
              "      <td>...</td>\n",
              "      <td>0.009589</td>\n",
              "      <td>0.497260</td>\n",
              "      <td>0.005479</td>\n",
              "      <td>0.007534</td>\n",
              "      <td>0.304795</td>\n",
              "      <td>0.025342</td>\n",
              "      <td>0.044521</td>\n",
              "      <td>0.020548</td>\n",
              "      <td>0.917808</td>\n",
              "      <td>180921.195890</td>\n",
              "    </tr>\n",
              "    <tr>\n",
              "      <th>std</th>\n",
              "      <td>42.300571</td>\n",
              "      <td>34.664304</td>\n",
              "      <td>9981.264932</td>\n",
              "      <td>1.382997</td>\n",
              "      <td>1.112799</td>\n",
              "      <td>30.202904</td>\n",
              "      <td>0.499629</td>\n",
              "      <td>525.480383</td>\n",
              "      <td>0.518911</td>\n",
              "      <td>0.238753</td>\n",
              "      <td>...</td>\n",
              "      <td>0.097486</td>\n",
              "      <td>0.500164</td>\n",
              "      <td>0.073846</td>\n",
              "      <td>0.086502</td>\n",
              "      <td>0.460478</td>\n",
              "      <td>0.157217</td>\n",
              "      <td>0.206319</td>\n",
              "      <td>0.141914</td>\n",
              "      <td>0.274751</td>\n",
              "      <td>79442.502883</td>\n",
              "    </tr>\n",
              "    <tr>\n",
              "      <th>min</th>\n",
              "      <td>20.000000</td>\n",
              "      <td>0.000000</td>\n",
              "      <td>1300.000000</td>\n",
              "      <td>1.000000</td>\n",
              "      <td>1.000000</td>\n",
              "      <td>1872.000000</td>\n",
              "      <td>0.000000</td>\n",
              "      <td>334.000000</td>\n",
              "      <td>0.000000</td>\n",
              "      <td>0.000000</td>\n",
              "      <td>...</td>\n",
              "      <td>0.000000</td>\n",
              "      <td>0.000000</td>\n",
              "      <td>0.000000</td>\n",
              "      <td>0.000000</td>\n",
              "      <td>0.000000</td>\n",
              "      <td>0.000000</td>\n",
              "      <td>0.000000</td>\n",
              "      <td>0.000000</td>\n",
              "      <td>0.000000</td>\n",
              "      <td>34900.000000</td>\n",
              "    </tr>\n",
              "    <tr>\n",
              "      <th>25%</th>\n",
              "      <td>20.000000</td>\n",
              "      <td>42.000000</td>\n",
              "      <td>7553.500000</td>\n",
              "      <td>5.000000</td>\n",
              "      <td>5.000000</td>\n",
              "      <td>1954.000000</td>\n",
              "      <td>0.000000</td>\n",
              "      <td>1129.500000</td>\n",
              "      <td>0.000000</td>\n",
              "      <td>0.000000</td>\n",
              "      <td>...</td>\n",
              "      <td>0.000000</td>\n",
              "      <td>0.000000</td>\n",
              "      <td>0.000000</td>\n",
              "      <td>0.000000</td>\n",
              "      <td>0.000000</td>\n",
              "      <td>0.000000</td>\n",
              "      <td>0.000000</td>\n",
              "      <td>0.000000</td>\n",
              "      <td>1.000000</td>\n",
              "      <td>129975.000000</td>\n",
              "    </tr>\n",
              "    <tr>\n",
              "      <th>50%</th>\n",
              "      <td>50.000000</td>\n",
              "      <td>63.000000</td>\n",
              "      <td>9478.500000</td>\n",
              "      <td>6.000000</td>\n",
              "      <td>5.000000</td>\n",
              "      <td>1973.000000</td>\n",
              "      <td>0.000000</td>\n",
              "      <td>1464.000000</td>\n",
              "      <td>0.000000</td>\n",
              "      <td>0.000000</td>\n",
              "      <td>...</td>\n",
              "      <td>0.000000</td>\n",
              "      <td>0.000000</td>\n",
              "      <td>0.000000</td>\n",
              "      <td>0.000000</td>\n",
              "      <td>0.000000</td>\n",
              "      <td>0.000000</td>\n",
              "      <td>0.000000</td>\n",
              "      <td>0.000000</td>\n",
              "      <td>1.000000</td>\n",
              "      <td>163000.000000</td>\n",
              "    </tr>\n",
              "    <tr>\n",
              "      <th>75%</th>\n",
              "      <td>70.000000</td>\n",
              "      <td>79.000000</td>\n",
              "      <td>11601.500000</td>\n",
              "      <td>7.000000</td>\n",
              "      <td>6.000000</td>\n",
              "      <td>2000.000000</td>\n",
              "      <td>1.000000</td>\n",
              "      <td>1776.750000</td>\n",
              "      <td>1.000000</td>\n",
              "      <td>0.000000</td>\n",
              "      <td>...</td>\n",
              "      <td>0.000000</td>\n",
              "      <td>1.000000</td>\n",
              "      <td>0.000000</td>\n",
              "      <td>0.000000</td>\n",
              "      <td>1.000000</td>\n",
              "      <td>0.000000</td>\n",
              "      <td>0.000000</td>\n",
              "      <td>0.000000</td>\n",
              "      <td>1.000000</td>\n",
              "      <td>214000.000000</td>\n",
              "    </tr>\n",
              "    <tr>\n",
              "      <th>max</th>\n",
              "      <td>190.000000</td>\n",
              "      <td>313.000000</td>\n",
              "      <td>215245.000000</td>\n",
              "      <td>10.000000</td>\n",
              "      <td>9.000000</td>\n",
              "      <td>2010.000000</td>\n",
              "      <td>1.000000</td>\n",
              "      <td>5642.000000</td>\n",
              "      <td>3.000000</td>\n",
              "      <td>2.000000</td>\n",
              "      <td>...</td>\n",
              "      <td>1.000000</td>\n",
              "      <td>1.000000</td>\n",
              "      <td>1.000000</td>\n",
              "      <td>1.000000</td>\n",
              "      <td>1.000000</td>\n",
              "      <td>1.000000</td>\n",
              "      <td>1.000000</td>\n",
              "      <td>1.000000</td>\n",
              "      <td>1.000000</td>\n",
              "      <td>755000.000000</td>\n",
              "    </tr>\n",
              "  </tbody>\n",
              "</table>\n",
              "<p>8 rows × 57 columns</p>\n",
              "</div>"
            ],
            "text/plain": [
              "        MSSubClass  LotFrontage        LotArea  OverallQual  OverallCond  \\\n",
              "count  1460.000000  1460.000000    1460.000000  1460.000000  1460.000000   \n",
              "mean     56.897260    57.623288   10516.828082     6.099315     5.575342   \n",
              "std      42.300571    34.664304    9981.264932     1.382997     1.112799   \n",
              "min      20.000000     0.000000    1300.000000     1.000000     1.000000   \n",
              "25%      20.000000    42.000000    7553.500000     5.000000     5.000000   \n",
              "50%      50.000000    63.000000    9478.500000     6.000000     5.000000   \n",
              "75%      70.000000    79.000000   11601.500000     7.000000     6.000000   \n",
              "max     190.000000   313.000000  215245.000000    10.000000     9.000000   \n",
              "\n",
              "         YearBuilt    Remodeled    GrLivArea  BsmtFullBath  BsmtHalfBath  \\\n",
              "count  1460.000000  1460.000000  1460.000000   1460.000000   1460.000000   \n",
              "mean   1971.267808     0.476712  1515.463699      0.425342      0.057534   \n",
              "std      30.202904     0.499629   525.480383      0.518911      0.238753   \n",
              "min    1872.000000     0.000000   334.000000      0.000000      0.000000   \n",
              "25%    1954.000000     0.000000  1129.500000      0.000000      0.000000   \n",
              "50%    1973.000000     0.000000  1464.000000      0.000000      0.000000   \n",
              "75%    2000.000000     1.000000  1776.750000      1.000000      0.000000   \n",
              "max    2010.000000     1.000000  5642.000000      3.000000      2.000000   \n",
              "\n",
              "           ...        HouseStyle_1.5Unf  HouseStyle_1Story  HouseStyle_2.5Fin  \\\n",
              "count      ...              1460.000000        1460.000000        1460.000000   \n",
              "mean       ...                 0.009589           0.497260           0.005479   \n",
              "std        ...                 0.097486           0.500164           0.073846   \n",
              "min        ...                 0.000000           0.000000           0.000000   \n",
              "25%        ...                 0.000000           0.000000           0.000000   \n",
              "50%        ...                 0.000000           0.000000           0.000000   \n",
              "75%        ...                 0.000000           1.000000           0.000000   \n",
              "max        ...                 1.000000           1.000000           1.000000   \n",
              "\n",
              "       HouseStyle_2.5Unf  HouseStyle_2Story  HouseStyle_SFoyer  \\\n",
              "count        1460.000000        1460.000000        1460.000000   \n",
              "mean            0.007534           0.304795           0.025342   \n",
              "std             0.086502           0.460478           0.157217   \n",
              "min             0.000000           0.000000           0.000000   \n",
              "25%             0.000000           0.000000           0.000000   \n",
              "50%             0.000000           0.000000           0.000000   \n",
              "75%             0.000000           1.000000           0.000000   \n",
              "max             1.000000           1.000000           1.000000   \n",
              "\n",
              "       HouseStyle_SLvl  PavedDrive_P  PavedDrive_Y      SalePrice  \n",
              "count      1460.000000   1460.000000   1460.000000    1460.000000  \n",
              "mean          0.044521      0.020548      0.917808  180921.195890  \n",
              "std           0.206319      0.141914      0.274751   79442.502883  \n",
              "min           0.000000      0.000000      0.000000   34900.000000  \n",
              "25%           0.000000      0.000000      1.000000  129975.000000  \n",
              "50%           0.000000      0.000000      1.000000  163000.000000  \n",
              "75%           0.000000      0.000000      1.000000  214000.000000  \n",
              "max           1.000000      1.000000      1.000000  755000.000000  \n",
              "\n",
              "[8 rows x 57 columns]"
            ]
          },
          "metadata": {
            "tags": []
          }
        },
        {
          "output_type": "stream",
          "text": [
            "Column names: ['MSSubClass', 'LotFrontage', 'LotArea', 'OverallQual', 'OverallCond', 'YearBuilt', 'Remodeled', 'GrLivArea', 'BsmtFullBath', 'BsmtHalfBath', 'FullBath', 'HalfBath', 'BedroomAbvGr', 'Fireplaces', 'GarageArea', 'MSZoning_FV', 'MSZoning_RH', 'MSZoning_RL', 'MSZoning_RM', 'Neighborhood_Blueste', 'Neighborhood_BrDale', 'Neighborhood_BrkSide', 'Neighborhood_ClearCr', 'Neighborhood_CollgCr', 'Neighborhood_Crawfor', 'Neighborhood_Edwards', 'Neighborhood_Gilbert', 'Neighborhood_IDOTRR', 'Neighborhood_MeadowV', 'Neighborhood_Mitchel', 'Neighborhood_NAmes', 'Neighborhood_NPkVill', 'Neighborhood_NWAmes', 'Neighborhood_NoRidge', 'Neighborhood_NridgHt', 'Neighborhood_OldTown', 'Neighborhood_SWISU', 'Neighborhood_Sawyer', 'Neighborhood_SawyerW', 'Neighborhood_Somerst', 'Neighborhood_StoneBr', 'Neighborhood_Timber', 'Neighborhood_Veenker', 'BldgType_2fmCon', 'BldgType_Duplex', 'BldgType_Twnhs', 'BldgType_TwnhsE', 'HouseStyle_1.5Unf', 'HouseStyle_1Story', 'HouseStyle_2.5Fin', 'HouseStyle_2.5Unf', 'HouseStyle_2Story', 'HouseStyle_SFoyer', 'HouseStyle_SLvl', 'PavedDrive_P', 'PavedDrive_Y']\n",
            "X.shape: (1460, 56)\n",
            "y.shape: (1460,)\n"
          ],
          "name": "stdout"
        }
      ]
    },
    {
      "metadata": {
        "id": "UUt1S0jmNLwD",
        "colab_type": "code",
        "colab": {
          "base_uri": "https://localhost:8080/",
          "height": 558
        },
        "outputId": "c14770bb-f7f2-45c5-d7ee-3f3eeb5d0d4d"
      },
      "cell_type": "code",
      "source": [
        "plt.figure(figsize=(8, 4))\n",
        "response.hist(bins=50)\n",
        "plt.title(\"Histogram\",fontsize=15)\n",
        "plt.xlabel(\"SalePrice\",fontsize=10)\n",
        "plt.ylabel(\"Frequency\",fontsize=10)\n",
        "plt.xlim([0.0,500000.0])\n",
        "plt.show()\n",
        "\n",
        "fig = features.hist(column='LotArea', bins=50)"
      ],
      "execution_count": 336,
      "outputs": [
        {
          "output_type": "display_data",
          "data": {
            "image/png": "[encoded data removed]",
            "text/plain": [
              "<matplotlib.figure.Figure at 0x7f9bf2f4a7b8>"
            ]
          },
          "metadata": {
            "tags": []
          }
        },
        {
          "output_type": "display_data",
          "data": {
            "image/png": "[encoded data removed]",
            "text/plain": [
              "<matplotlib.figure.Figure at 0x7f9bf422aa58>"
            ]
          },
          "metadata": {
            "tags": []
          }
        }
      ]
    },
    {
      "metadata": {
        "id": "e097sURYN1Ki",
        "colab_type": "code",
        "outputId": "ce5c8bec-7246-42e5-f826-335d72a05cb3",
        "colab": {
          "base_uri": "https://localhost:8080/",
          "height": 34
        }
      },
      "cell_type": "code",
      "source": [
        "# Create the training and test sets\n",
        "X_train, X_test, y_train, y_test = train_test_split(X, y, test_size=0.2, random_state=123)\n",
        "\n",
        "# Instantiate the XGBRegressor: xg_reg\n",
        "xg_reg = xgb.XGBRegressor(objective=\"reg:linear\", booster=\"gbtree\", n_estimators=10, seed=123)\n",
        "\n",
        "# Fit the regressor to the training set\n",
        "xg_reg.fit(X_train, y_train)\n",
        "\n",
        "# Predict the labels of the test set: preds\n",
        "preds = xg_reg.predict(X_test)\n",
        "\n",
        "# Compute the rmse: rmse\n",
        "rmse = np.sqrt(mean_squared_error(y_test,preds))\n",
        "print(\"RMSE: %f\" % (rmse))"
      ],
      "execution_count": 337,
      "outputs": [
        {
          "output_type": "stream",
          "text": [
            "RMSE: 78847.401758\n"
          ],
          "name": "stdout"
        }
      ]
    },
    {
      "metadata": {
        "id": "2fTPUn4gUgkg",
        "colab_type": "code",
        "colab": {
          "base_uri": "https://localhost:8080/",
          "height": 680
        },
        "outputId": "e01115a8-b28f-417a-f8aa-e7b7208df991"
      },
      "cell_type": "code",
      "source": [
        "importances0 = xg_reg.feature_importances_\n",
        "\n",
        "importances = pd.DataFrame(list(zip(colnames, importances0)), columns = ['Variable', 'Importance'])\n",
        "importances = importances[importances.Importance != 0].sort_values(by=['Importance', 'Variable' ], ascending = [True, True])\n",
        "\n",
        "#Alternative: Create dictionary\n",
        "importances_dict = {name: value for name, value in zip(colnames, importances0) if value != 0}\n",
        "print('importances_dict= {}\\n'.format(importances_dict))\n",
        "importances2 = pd.DataFrame(list(importances_dict.items()), columns = ['Variable', 'Importance']).sort_values(by=['Importance', 'Variable' ], ascending = [False, True])\n",
        "display(importances2)\n",
        "#print(importances2.to_string(index=False, header=False))\n",
        "\n",
        "ax = importances.plot.barh(x='Variable', y='Importance')\n",
        "p1 = plt.title('Variable Importance')\n",
        "p1 = plt.xlabel('Relative Importance')\n",
        "\n",
        "ax.get_legend().remove()\n",
        "#p1 = ax.set_title(label='')\n",
        "p1 = ax.set_ylabel(ylabel='')"
      ],
      "execution_count": 338,
      "outputs": [
        {
          "output_type": "stream",
          "text": [
            "importances_dict= {'LotArea': 0.08571429, 'OverallQual': 0.35714287, 'YearBuilt': 0.057142857, 'GrLivArea': 0.27142859, 'BsmtFullBath': 0.028571429, 'FullBath': 0.014285714, 'Fireplaces': 0.057142857, 'GarageArea': 0.1, 'MSZoning_RL': 0.014285714, 'HouseStyle_1Story': 0.014285714}\n",
            "\n"
          ],
          "name": "stdout"
        },
        {
          "output_type": "display_data",
          "data": {
            "text/html": [
              "<div>\n",
              "<style scoped>\n",
              "    .dataframe tbody tr th:only-of-type {\n",
              "        vertical-align: middle;\n",
              "    }\n",
              "\n",
              "    .dataframe tbody tr th {\n",
              "        vertical-align: top;\n",
              "    }\n",
              "\n",
              "    .dataframe thead th {\n",
              "        text-align: right;\n",
              "    }\n",
              "</style>\n",
              "<table border=\"1\" class=\"dataframe\">\n",
              "  <thead>\n",
              "    <tr style=\"text-align: right;\">\n",
              "      <th></th>\n",
              "      <th>Variable</th>\n",
              "      <th>Importance</th>\n",
              "    </tr>\n",
              "  </thead>\n",
              "  <tbody>\n",
              "    <tr>\n",
              "      <th>1</th>\n",
              "      <td>OverallQual</td>\n",
              "      <td>0.357143</td>\n",
              "    </tr>\n",
              "    <tr>\n",
              "      <th>3</th>\n",
              "      <td>GrLivArea</td>\n",
              "      <td>0.271429</td>\n",
              "    </tr>\n",
              "    <tr>\n",
              "      <th>7</th>\n",
              "      <td>GarageArea</td>\n",
              "      <td>0.100000</td>\n",
              "    </tr>\n",
              "    <tr>\n",
              "      <th>0</th>\n",
              "      <td>LotArea</td>\n",
              "      <td>0.085714</td>\n",
              "    </tr>\n",
              "    <tr>\n",
              "      <th>6</th>\n",
              "      <td>Fireplaces</td>\n",
              "      <td>0.057143</td>\n",
              "    </tr>\n",
              "    <tr>\n",
              "      <th>2</th>\n",
              "      <td>YearBuilt</td>\n",
              "      <td>0.057143</td>\n",
              "    </tr>\n",
              "    <tr>\n",
              "      <th>4</th>\n",
              "      <td>BsmtFullBath</td>\n",
              "      <td>0.028571</td>\n",
              "    </tr>\n",
              "    <tr>\n",
              "      <th>5</th>\n",
              "      <td>FullBath</td>\n",
              "      <td>0.014286</td>\n",
              "    </tr>\n",
              "    <tr>\n",
              "      <th>9</th>\n",
              "      <td>HouseStyle_1Story</td>\n",
              "      <td>0.014286</td>\n",
              "    </tr>\n",
              "    <tr>\n",
              "      <th>8</th>\n",
              "      <td>MSZoning_RL</td>\n",
              "      <td>0.014286</td>\n",
              "    </tr>\n",
              "  </tbody>\n",
              "</table>\n",
              "</div>"
            ],
            "text/plain": [
              "            Variable  Importance\n",
              "1        OverallQual    0.357143\n",
              "3          GrLivArea    0.271429\n",
              "7         GarageArea    0.100000\n",
              "0            LotArea    0.085714\n",
              "6         Fireplaces    0.057143\n",
              "2          YearBuilt    0.057143\n",
              "4       BsmtFullBath    0.028571\n",
              "5           FullBath    0.014286\n",
              "9  HouseStyle_1Story    0.014286\n",
              "8        MSZoning_RL    0.014286"
            ]
          },
          "metadata": {
            "tags": []
          }
        },
        {
          "output_type": "display_data",
          "data": {
            "image/png": "[encoded data removed]",
            "text/plain": [
              "<matplotlib.figure.Figure at 0x7f9bf33f7828>"
            ]
          },
          "metadata": {
            "tags": []
          }
        }
      ]
    },
    {
      "metadata": {
        "id": "u42vqg8eNcTO",
        "colab_type": "code",
        "colab": {
          "base_uri": "https://localhost:8080/",
          "height": 293
        },
        "outputId": "86f89d2d-6892-4e53-a105-a12e09a4bb2c"
      },
      "cell_type": "code",
      "source": [
        "p2 = xgb.plot_importance(xg_reg)\n",
        "# No feature names: https://stackoverflow.com/questions/46943314/xgboost-plot-importance-doesnt-show-feature-names"
      ],
      "execution_count": 339,
      "outputs": [
        {
          "output_type": "display_data",
          "data": {
            "image/png": "[encoded data removed]",
            "text/plain": [
              "<matplotlib.figure.Figure at 0x7f9bf3a95908>"
            ]
          },
          "metadata": {
            "tags": []
          }
        }
      ]
    },
    {
      "metadata": {
        "id": "NkB95X30KMqB",
        "colab_type": "code",
        "colab": {
          "base_uri": "https://localhost:8080/",
          "height": 107
        },
        "outputId": "b0ac0407-ebce-4f9b-d544-676707e43f69"
      },
      "cell_type": "code",
      "source": [
        "print(\"xg_reg.get_booster= {}\".format(xg_reg.get_booster()))\n",
        "print(\"xg_reg.get_params= {}\".format(xg_reg.get_params()))\n",
        "print(\"xg_reg.get_xgb_params= {}\".format(xg_reg.get_xgb_params()))\n",
        "print(\"xg_reg.score(X_test, y_test)= {}\".format(xg_reg.score(X_test, y_test)))"
      ],
      "execution_count": 340,
      "outputs": [
        {
          "output_type": "stream",
          "text": [
            "xg_reg.get_booster= <xgboost.core.Booster object at 0x7f9bf3e03128>\n",
            "xg_reg.get_params= {'base_score': 0.5, 'booster': 'gbtree', 'colsample_bylevel': 1, 'colsample_bytree': 1, 'gamma': 0, 'learning_rate': 0.1, 'max_delta_step': 0, 'max_depth': 3, 'min_child_weight': 1, 'missing': None, 'n_estimators': 10, 'n_jobs': 1, 'nthread': None, 'objective': 'reg:linear', 'random_state': 0, 'reg_alpha': 0, 'reg_lambda': 1, 'scale_pos_weight': 1, 'seed': 123, 'silent': True, 'subsample': 1}\n",
            "xg_reg.get_xgb_params= {'base_score': 0.5, 'booster': 'gbtree', 'colsample_bylevel': 1, 'colsample_bytree': 1, 'gamma': 0, 'learning_rate': 0.1, 'max_delta_step': 0, 'max_depth': 3, 'min_child_weight': 1, 'missing': None, 'n_estimators': 10, 'nthread': 1, 'objective': 'reg:linear', 'reg_alpha': 0, 'reg_lambda': 1, 'scale_pos_weight': 1, 'seed': 123, 'silent': 1, 'subsample': 1}\n",
            "xg_reg.score(X_test, y_test)= -0.006035615328578103\n"
          ],
          "name": "stdout"
        }
      ]
    },
    {
      "metadata": {
        "id": "tjxJNz-yQh53",
        "colab_type": "code",
        "colab": {
          "base_uri": "https://localhost:8080/",
          "height": 34
        },
        "outputId": "6ed63691-9802-451f-a7b8-ad038b835ba9"
      },
      "cell_type": "code",
      "source": [
        "#XGBoost Learning API \n",
        "data_train = xgb.DMatrix(data=X_train, label=y_train, feature_names=colnames)\n",
        "data_test  = xgb.DMatrix(data=X_test,  label=y_test,  feature_names=colnames)\n",
        "\n",
        "# Default parameters differ tbetween XGBoost Scikit-Learn API and XGBoost Learning API:\n",
        "#    xg_reg2 = xgb.XGBRegressor(objective=\"reg:linear\", booster=\"gbtree\", n_estimators=10, seed=123)\n",
        "params = {'objective':'reg:linear', 'booster':'gbtree', 'num_boost_round':10, 'seed':123 , 'max_depth':3, 'learning_rate':0.1} \n",
        "\n",
        "# Fit the regressor to the training set\n",
        "#   xg_reg2.fit(data_train)\n",
        "xg_reg2 = xgb.train(params=params, dtrain=data_train)\n",
        "\n",
        "# Predict the labels of the test set: preds\n",
        "preds2 = xg_reg2.predict(data=data_test)\n",
        "\n",
        "# Compute the rmse: rmse\n",
        "rmse2 = np.sqrt(mean_squared_error(data_test.get_label(),preds2))\n",
        "print(\"RMSE: %f\" % (rmse2))"
      ],
      "execution_count": 347,
      "outputs": [
        {
          "output_type": "stream",
          "text": [
            "RMSE: 78847.406250\n"
          ],
          "name": "stdout"
        }
      ]
    },
    {
      "metadata": {
        "id": "x2I3Ptq9Yyjm",
        "colab_type": "code",
        "colab": {}
      },
      "cell_type": "code",
      "source": [
        ""
      ],
      "execution_count": 0,
      "outputs": []
    }
  ]
}