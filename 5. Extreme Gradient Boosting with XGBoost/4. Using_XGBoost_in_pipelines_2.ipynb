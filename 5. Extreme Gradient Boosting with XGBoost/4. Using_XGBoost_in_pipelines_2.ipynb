{
  "nbformat": 4,
  "nbformat_minor": 0,
  "metadata": {
    "colab": {
      "name": "Using XGBoost in pipelines 2.ipynb",
      "version": "0.3.2",
      "provenance": [],
      "collapsed_sections": [],
      "include_colab_link": true
    },
    "kernelspec": {
      "name": "python3",
      "display_name": "Python 3"
    }
  },
  "cells": [
    {
      "cell_type": "markdown",
      "metadata": {
        "id": "view-in-github",
        "colab_type": "text"
      },
      "source": [
        "<a href=\"https://colab.research.google.com/github/gisandnes/Extreme-Gradient-Boosting-with-XGBoost_DataCamp/blob/master/Using_XGBoost_in_pipelines_2.ipynb\" target=\"_parent\"><img src=\"https://colab.research.google.com/assets/colab-badge.svg\" alt=\"Open In Colab\"/></a>"
      ]
    },
    {
      "metadata": {
        "id": "NJ1oLsK3cyv9",
        "colab_type": "code",
        "outputId": "f8a76a73-bbbd-426e-ad82-b1265da53377",
        "colab": {
          "base_uri": "https://localhost:8080/",
          "height": 54
        }
      },
      "cell_type": "code",
      "source": [
        "!mkdir -p data #Make folders for downloads\n",
        "\n",
        "!wget --no-verbose https://raw.githubusercontent.com/gisandnes/Extreme-Gradient-Boosting-with-XGBoost_DataCamp/master/data/chronic_kidney_disease.csv -O ./data/chronic_kidney_disease.csv\n",
        "#!wget --no-verbose https://raw.githubusercontent.com/gisandnes/Extreme-Gradient-Boosting-with-XGBoost_DataCamp/master/data/ames_unprocessed_data.csv -O ./data/ames_unprocessed_data.csv \n",
        "#!wget --no-verbose https://raw.githubusercontent.com/gisandnes/Extreme-Gradient-Boosting-with-XGBoost_DataCamp/master/data/ames_housing_trimmed_processed.csv -O ./data/ames_housing_trimmed_processed.csv"
      ],
      "execution_count": 62,
      "outputs": [
        {
          "output_type": "stream",
          "text": [
            "2019-01-15 10:15:18 URL:https://raw.githubusercontent.com/gisandnes/Extreme-Gradient-Boosting-with-XGBoost_DataCamp/master/data/chronic_kidney_disease.csv [43051/43051] -> \"./data/chronic_kidney_disease.csv\" [1]\n"
          ],
          "name": "stdout"
        }
      ]
    },
    {
      "metadata": {
        "id": "0LEnHfNZvZDv",
        "colab_type": "code",
        "colab": {}
      },
      "cell_type": "code",
      "source": [
        "!pip install -q sklearn_pandas"
      ],
      "execution_count": 0,
      "outputs": []
    },
    {
      "metadata": {
        "id": "y75vBclxc5a3",
        "colab_type": "code",
        "colab": {}
      },
      "cell_type": "code",
      "source": [
        "from IPython.display import display\n",
        "import matplotlib\n",
        "import matplotlib.pyplot as plt \n",
        "import numpy as np\n",
        "import pandas as pd\n",
        "from sklearn.metrics import mean_squared_error\n",
        "from sklearn.model_selection import train_test_split, GridSearchCV, RandomizedSearchCV, cross_val_score\n",
        "from sklearn.preprocessing import LabelEncoder, OneHotEncoder\n",
        "from sklearn.feature_extraction import DictVectorizer\n",
        "from sklearn.pipeline import Pipeline\n",
        "from sklearn_pandas import DataFrameMapper, CategoricalImputer\n",
        "from sklearn.impute import SimpleImputer as Imputer\n",
        "\n",
        "from sklearn.base import BaseEstimator, TransformerMixin\n",
        "\n",
        "import xgboost as xgb\n",
        "\n",
        "%matplotlib inline"
      ],
      "execution_count": 0,
      "outputs": []
    },
    {
      "metadata": {
        "id": "nm0E5ziXfScg",
        "colab_type": "text"
      },
      "cell_type": "markdown",
      "source": [
        "### Prepare data set\n",
        "age\t\t-\tage \n",
        "bp\t\t-\tblood pressure \n",
        "sg\t\t-\tspecific gravity\n",
        "al\t\t-   \talbumin\n",
        "su\t\t-\tsugar\n",
        "rbc\t\t-\tred blood cells\n",
        "pc\t\t-\tpus cell\n",
        "pcc\t\t-\tpus cell clumps\n",
        "ba\t\t-\tbacteria\n",
        "bgr\t\t-\tblood glucose random\n",
        "bu\t\t-\tblood urea\n",
        "sc\t\t-\tserum creatinine\n",
        "sod\t\t-\tsodium\n",
        "pot\t\t-\tpotassium\n",
        "hemo\t\t-\themoglobin\n",
        "pcv\t\t-\tpacked cell volume\n",
        "wc\t\t-\twhite blood cell count\n",
        "rc\t\t-\tred blood cell count\n",
        "htn\t\t-\thypertension\n",
        "dm\t\t-\tdiabetes mellitus\n",
        "cad\t\t-\tcoronary artery disease\n",
        "appet\t\t-\tappetite\n",
        "pe\t\t-\tpedal edema\n",
        "ane\t\t-\tanemia\n",
        "class\t\t-\tclass"
      ]
    },
    {
      "metadata": {
        "id": "4BC-wZWedD7r",
        "colab_type": "code",
        "colab": {}
      },
      "cell_type": "code",
      "source": [
        "kidney  = pd.read_csv(\"./data/chronic_kidney_disease.csv\", header=None, names=['age','bp','sg','al','su','rbc','pc','pcc','ba','bgr','bu','sc','sod','pot','hemo','pcv','wc','rc','htn','dm','cad','appet','pe','ane','class'])\n",
        "\n",
        "X = kidney.loc[:,\"age\":\"ane\"]\n",
        "y = kidney.loc[:,\"class\"]\n",
        "\n",
        "#Rearrange columns; numeric first, then character\n",
        "X = X[['age','bp','sg','al','su','bgr','bu','sc','sod','pot','hemo','pcv','wc','rc', 'rbc','pc','pcc','ba','htn','dm','cad','appet','pe','ane']]\n",
        "\n",
        "#Numeric columns: replace ? by NaN\n",
        "for name in ['age','bp','sg','al','su','bgr','bu','sc','sod','pot','hemo','pcv','wc','rc']:\n",
        "  X[name] = pd.to_numeric(X[name].replace('?', np.nan))\n",
        "  #X[name] = pd.to_numeric(X[name], errors='coerce')\n",
        "\n",
        "#Character columns: replace ? by NaN\n",
        "for name in ['rbc','pc','pcc','ba','htn','dm','cad','appet','pe','ane']:\n",
        "  X[name] = X[name].replace('?', np.nan)"
      ],
      "execution_count": 0,
      "outputs": []
    },
    {
      "metadata": {
        "id": "_ZdN9Cg1u26B",
        "colab_type": "code",
        "outputId": "63f923f8-fc8b-49ed-896c-a15159d87108",
        "colab": {
          "base_uri": "https://localhost:8080/",
          "height": 336
        }
      },
      "cell_type": "code",
      "source": [
        "print(\"Distribution: BGR \\n{} \\n\".format(X['bgr'].describe()))\n",
        "print(\"Distribution: RBC \\n{} \\n\".format(X['rbc'].describe()))"
      ],
      "execution_count": 66,
      "outputs": [
        {
          "output_type": "stream",
          "text": [
            "Distribution: BGR \n",
            "count    356.000000\n",
            "mean     148.036517\n",
            "std       79.281714\n",
            "min       22.000000\n",
            "25%       99.000000\n",
            "50%      121.000000\n",
            "75%      163.000000\n",
            "max      490.000000\n",
            "Name: bgr, dtype: float64 \n",
            "\n",
            "Distribution: RBC \n",
            "count        248\n",
            "unique         2\n",
            "top       normal\n",
            "freq         201\n",
            "Name: rbc, dtype: object \n",
            "\n"
          ],
          "name": "stdout"
        }
      ]
    },
    {
      "metadata": {
        "id": "o7_N9sxfdmvr",
        "colab_type": "code",
        "outputId": "78718225-a30a-4663-d251-7be309e19605",
        "colab": {
          "base_uri": "https://localhost:8080/",
          "height": 226
        }
      },
      "cell_type": "code",
      "source": [
        "X.head(5)"
      ],
      "execution_count": 67,
      "outputs": [
        {
          "output_type": "execute_result",
          "data": {
            "text/html": [
              "<div>\n",
              "<style scoped>\n",
              "    .dataframe tbody tr th:only-of-type {\n",
              "        vertical-align: middle;\n",
              "    }\n",
              "\n",
              "    .dataframe tbody tr th {\n",
              "        vertical-align: top;\n",
              "    }\n",
              "\n",
              "    .dataframe thead th {\n",
              "        text-align: right;\n",
              "    }\n",
              "</style>\n",
              "<table border=\"1\" class=\"dataframe\">\n",
              "  <thead>\n",
              "    <tr style=\"text-align: right;\">\n",
              "      <th></th>\n",
              "      <th>age</th>\n",
              "      <th>bp</th>\n",
              "      <th>sg</th>\n",
              "      <th>al</th>\n",
              "      <th>su</th>\n",
              "      <th>bgr</th>\n",
              "      <th>bu</th>\n",
              "      <th>sc</th>\n",
              "      <th>sod</th>\n",
              "      <th>pot</th>\n",
              "      <th>...</th>\n",
              "      <th>rbc</th>\n",
              "      <th>pc</th>\n",
              "      <th>pcc</th>\n",
              "      <th>ba</th>\n",
              "      <th>htn</th>\n",
              "      <th>dm</th>\n",
              "      <th>cad</th>\n",
              "      <th>appet</th>\n",
              "      <th>pe</th>\n",
              "      <th>ane</th>\n",
              "    </tr>\n",
              "  </thead>\n",
              "  <tbody>\n",
              "    <tr>\n",
              "      <th>0</th>\n",
              "      <td>48.0</td>\n",
              "      <td>80.0</td>\n",
              "      <td>1.020</td>\n",
              "      <td>1.0</td>\n",
              "      <td>0.0</td>\n",
              "      <td>121.0</td>\n",
              "      <td>36.0</td>\n",
              "      <td>1.2</td>\n",
              "      <td>NaN</td>\n",
              "      <td>NaN</td>\n",
              "      <td>...</td>\n",
              "      <td>NaN</td>\n",
              "      <td>normal</td>\n",
              "      <td>notpresent</td>\n",
              "      <td>notpresent</td>\n",
              "      <td>yes</td>\n",
              "      <td>yes</td>\n",
              "      <td>no</td>\n",
              "      <td>good</td>\n",
              "      <td>no</td>\n",
              "      <td>no</td>\n",
              "    </tr>\n",
              "    <tr>\n",
              "      <th>1</th>\n",
              "      <td>7.0</td>\n",
              "      <td>50.0</td>\n",
              "      <td>1.020</td>\n",
              "      <td>4.0</td>\n",
              "      <td>0.0</td>\n",
              "      <td>NaN</td>\n",
              "      <td>18.0</td>\n",
              "      <td>0.8</td>\n",
              "      <td>NaN</td>\n",
              "      <td>NaN</td>\n",
              "      <td>...</td>\n",
              "      <td>NaN</td>\n",
              "      <td>normal</td>\n",
              "      <td>notpresent</td>\n",
              "      <td>notpresent</td>\n",
              "      <td>no</td>\n",
              "      <td>no</td>\n",
              "      <td>no</td>\n",
              "      <td>good</td>\n",
              "      <td>no</td>\n",
              "      <td>no</td>\n",
              "    </tr>\n",
              "    <tr>\n",
              "      <th>2</th>\n",
              "      <td>62.0</td>\n",
              "      <td>80.0</td>\n",
              "      <td>1.010</td>\n",
              "      <td>2.0</td>\n",
              "      <td>3.0</td>\n",
              "      <td>423.0</td>\n",
              "      <td>53.0</td>\n",
              "      <td>1.8</td>\n",
              "      <td>NaN</td>\n",
              "      <td>NaN</td>\n",
              "      <td>...</td>\n",
              "      <td>normal</td>\n",
              "      <td>normal</td>\n",
              "      <td>notpresent</td>\n",
              "      <td>notpresent</td>\n",
              "      <td>no</td>\n",
              "      <td>yes</td>\n",
              "      <td>no</td>\n",
              "      <td>poor</td>\n",
              "      <td>no</td>\n",
              "      <td>yes</td>\n",
              "    </tr>\n",
              "    <tr>\n",
              "      <th>3</th>\n",
              "      <td>48.0</td>\n",
              "      <td>70.0</td>\n",
              "      <td>1.005</td>\n",
              "      <td>4.0</td>\n",
              "      <td>0.0</td>\n",
              "      <td>117.0</td>\n",
              "      <td>56.0</td>\n",
              "      <td>3.8</td>\n",
              "      <td>111.0</td>\n",
              "      <td>2.5</td>\n",
              "      <td>...</td>\n",
              "      <td>normal</td>\n",
              "      <td>abnormal</td>\n",
              "      <td>present</td>\n",
              "      <td>notpresent</td>\n",
              "      <td>yes</td>\n",
              "      <td>no</td>\n",
              "      <td>no</td>\n",
              "      <td>poor</td>\n",
              "      <td>yes</td>\n",
              "      <td>yes</td>\n",
              "    </tr>\n",
              "    <tr>\n",
              "      <th>4</th>\n",
              "      <td>51.0</td>\n",
              "      <td>80.0</td>\n",
              "      <td>1.010</td>\n",
              "      <td>2.0</td>\n",
              "      <td>0.0</td>\n",
              "      <td>106.0</td>\n",
              "      <td>26.0</td>\n",
              "      <td>1.4</td>\n",
              "      <td>NaN</td>\n",
              "      <td>NaN</td>\n",
              "      <td>...</td>\n",
              "      <td>normal</td>\n",
              "      <td>normal</td>\n",
              "      <td>notpresent</td>\n",
              "      <td>notpresent</td>\n",
              "      <td>no</td>\n",
              "      <td>no</td>\n",
              "      <td>no</td>\n",
              "      <td>good</td>\n",
              "      <td>no</td>\n",
              "      <td>no</td>\n",
              "    </tr>\n",
              "  </tbody>\n",
              "</table>\n",
              "<p>5 rows × 24 columns</p>\n",
              "</div>"
            ],
            "text/plain": [
              "    age    bp     sg   al   su    bgr    bu   sc    sod  pot ...      rbc  \\\n",
              "0  48.0  80.0  1.020  1.0  0.0  121.0  36.0  1.2    NaN  NaN ...      NaN   \n",
              "1   7.0  50.0  1.020  4.0  0.0    NaN  18.0  0.8    NaN  NaN ...      NaN   \n",
              "2  62.0  80.0  1.010  2.0  3.0  423.0  53.0  1.8    NaN  NaN ...   normal   \n",
              "3  48.0  70.0  1.005  4.0  0.0  117.0  56.0  3.8  111.0  2.5 ...   normal   \n",
              "4  51.0  80.0  1.010  2.0  0.0  106.0  26.0  1.4    NaN  NaN ...   normal   \n",
              "\n",
              "         pc         pcc          ba  htn   dm cad appet   pe  ane  \n",
              "0    normal  notpresent  notpresent  yes  yes  no  good   no   no  \n",
              "1    normal  notpresent  notpresent   no   no  no  good   no   no  \n",
              "2    normal  notpresent  notpresent   no  yes  no  poor   no  yes  \n",
              "3  abnormal     present  notpresent  yes   no  no  poor  yes  yes  \n",
              "4    normal  notpresent  notpresent   no   no  no  good   no   no  \n",
              "\n",
              "[5 rows x 24 columns]"
            ]
          },
          "metadata": {
            "tags": []
          },
          "execution_count": 67
        }
      ]
    },
    {
      "metadata": {
        "id": "yUmZymCODGwY",
        "colab_type": "text"
      },
      "cell_type": "markdown",
      "source": [
        "###Kidney disease case study I: Categorical Imputer & Kidney disease case study II: Feature Union"
      ]
    },
    {
      "metadata": {
        "id": "KwqyvnnhqBry",
        "colab_type": "code",
        "outputId": "a8a414eb-9747-4e6d-c21d-9b2028ac06e5",
        "colab": {
          "base_uri": "https://localhost:8080/",
          "height": 532
        }
      },
      "cell_type": "code",
      "source": [
        "# Check number of nulls in each feature column\n",
        "nulls_per_column = X.isnull().sum()\n",
        "print(\"Number of nulls per column: \\n{}\\n\".format(nulls_per_column))\n",
        "\n",
        "# Create a boolean mask for categorical columns\n",
        "categorical_feature_mask = X.dtypes == object\n",
        "\n",
        "# Get list of categorical column names\n",
        "categorical_columns = X.columns[categorical_feature_mask].tolist()\n",
        "print(\"Categorical columns:     {}\".format(categorical_columns))\n",
        "\n",
        "# Get list of non-categorical column names\n",
        "non_categorical_columns = X.columns[~categorical_feature_mask].tolist()\n",
        "print(\"Non-categorical columns: {}\".format(non_categorical_columns))\n",
        "\n",
        "\n",
        "################################################################################################################################################\n",
        "# This original DataCamp way should be replaced by the one below according to\n",
        "# https://stackoverflow.com/questions/52055658/sklearn-pandas-in-a-pipeline-returns-typeerror-builtin-function-or-method-obj\n",
        "################################################################################################################################################\n",
        "# Apply numeric imputer\n",
        "#   numeric_imputation_mapper = DataFrameMapper(\n",
        "#                                               [([numeric_feature],Imputer(strategy=\"median\")) for numeric_feature in non_categorical_columns],\n",
        "#                                               input_df=True,\n",
        "#                                               df_out=True\n",
        "#                                              )\n",
        "#   \n",
        "# Apply categorical imputer\n",
        "#   categorical_imputation_mapper = DataFrameMapper(\n",
        "#                                                   [(category_feature, CategoricalImputer()) for category_feature in categorical_columns],\n",
        "#                                                   input_df=True,\n",
        "#                                                   df_out=True\n",
        "#                                                  )\n",
        "# Import FeatureUnion\n",
        "#   from sklearn.pipeline import FeatureUnion\n",
        "#   \n",
        "# Combine the numeric and categorical transformations\n",
        "#   numeric_categorical_union = FeatureUnion([\n",
        "#                                             (\"num_mapper\", numeric_imputation_mapper),\n",
        "#                                             (\"cat_mapper\", categorical_imputation_mapper)\n",
        "#                                            ])\n",
        "\n",
        "transformers = []\n",
        "# Apply numeric imputer\n",
        "transformers.extend([([numeric_feature],Imputer(strategy=\"median\")) for numeric_feature in non_categorical_columns])\n",
        "# Apply categorical imputer\n",
        "transformers.extend([(category_feature, CategoricalImputer()) for category_feature in categorical_columns])\n",
        "\n",
        "numeric_categorical_union = DataFrameMapper(transformers, input_df=True, df_out=True)"
      ],
      "execution_count": 68,
      "outputs": [
        {
          "output_type": "stream",
          "text": [
            "Number of nulls per column: \n",
            "age        9\n",
            "bp        12\n",
            "sg        47\n",
            "al        46\n",
            "su        49\n",
            "bgr       44\n",
            "bu        19\n",
            "sc        17\n",
            "sod       87\n",
            "pot       88\n",
            "hemo      52\n",
            "pcv       71\n",
            "wc       106\n",
            "rc       131\n",
            "rbc      152\n",
            "pc        65\n",
            "pcc        4\n",
            "ba         4\n",
            "htn        2\n",
            "dm         2\n",
            "cad        2\n",
            "appet      1\n",
            "pe         1\n",
            "ane        1\n",
            "dtype: int64\n",
            "\n",
            "Categorical columns:     ['rbc', 'pc', 'pcc', 'ba', 'htn', 'dm', 'cad', 'appet', 'pe', 'ane']\n",
            "Non-categorical columns: ['age', 'bp', 'sg', 'al', 'su', 'bgr', 'bu', 'sc', 'sod', 'pot', 'hemo', 'pcv', 'wc', 'rc']\n"
          ],
          "name": "stdout"
        }
      ]
    },
    {
      "metadata": {
        "id": "Cw_QSf3lC_KB",
        "colab_type": "text"
      },
      "cell_type": "markdown",
      "source": [
        "###Kidney disease case study III: Full pipeline"
      ]
    },
    {
      "metadata": {
        "id": "B56e_Ym8yDF8",
        "colab_type": "code",
        "outputId": "89c54849-b04c-4483-84cb-2ff7829c55e0",
        "colab": {
          "base_uri": "https://localhost:8080/",
          "height": 34
        }
      },
      "cell_type": "code",
      "source": [
        "# Custom transformer to convert Pandas DataFrame into Dict (needed for DictVectorizer)\n",
        "class Dictifier(BaseEstimator, TransformerMixin):      \n",
        "    def fit(self, X, y=None):\n",
        "        return self\n",
        "\n",
        "    def transform(self, X):\n",
        "        return X.to_dict('records')\n",
        "\n",
        "# Create full pipeline\n",
        "pipeline = Pipeline([\n",
        "                     (\"featureunion\", numeric_categorical_union),\n",
        "                     (\"dictifier\", Dictifier()),\n",
        "                     (\"vectorizer\", DictVectorizer(sort=False)),\n",
        "                     (\"clf\", xgb.XGBClassifier(max_depth=3))\n",
        "                    ])\n",
        "\n",
        "# Perform cross-validation\n",
        "#cross_val_scores = cross_val_score(pipeline, kidney_data, y, scoring=\"roc_auc\", cv=3)\n",
        "cross_val_scores = cross_val_score(pipeline, X, y, scoring=\"roc_auc\", cv=3)\n",
        "\n",
        "# Print avg. AUC\n",
        "print(\"3-fold AUC: \", np.mean(cross_val_scores))"
      ],
      "execution_count": 69,
      "outputs": [
        {
          "output_type": "stream",
          "text": [
            "3-fold AUC:  0.998637406769937\n"
          ],
          "name": "stdout"
        }
      ]
    },
    {
      "metadata": {
        "id": "y4ZGY-l0CzX8",
        "colab_type": "text"
      },
      "cell_type": "markdown",
      "source": [
        "###Bringing it all together"
      ]
    },
    {
      "metadata": {
        "id": "WlbcIxJWyLYJ",
        "colab_type": "code",
        "colab": {
          "base_uri": "https://localhost:8080/",
          "height": 283
        },
        "outputId": "eb941b42-314a-47eb-f2db-ae9f8d06150b"
      },
      "cell_type": "code",
      "source": [
        "#Default for XGBClassifier: \n",
        "#  learning_rate = 0.1\n",
        "#  max_depth=3\n",
        "#  n_estimators=100\n",
        "\n",
        "# Create the parameter grid\n",
        "gbm_param_grid = {\n",
        "    'clf__learning_rate': np.arange(0.05, 1, 0.05), # 19 values\n",
        "    'clf__max_depth': np.arange(3, 10, 1),          #7 values\n",
        "    'clf__n_estimators': np.arange(50, 200, 50)     #3 values\n",
        "}\n",
        "\n",
        "# Perform RandomizedSearchCV\n",
        "#randomized_roc_auc = RandomizedSearchCV(pipeline, param_distributions=gbm_param_grid, n_iter=2,scoring='roc_auc', cv=2, verbose=1) #As in DataCamp\n",
        "randomized_roc_auc = RandomizedSearchCV(pipeline, param_distributions=gbm_param_grid, n_iter=30,scoring='roc_auc', cv=3, verbose=1, n_jobs=-1)\n",
        "\n",
        "# Fit the estimator\n",
        "randomized_roc_auc.fit(X,y)\n",
        "\n",
        "# Compute metrics\n",
        "print(randomized_roc_auc.best_score_, \"\\n\")\n",
        "print(randomized_roc_auc.best_estimator_, \"\\n\")\n",
        "print(randomized_roc_auc.best_params_)"
      ],
      "execution_count": 82,
      "outputs": [
        {
          "output_type": "stream",
          "text": [
            "Fitting 3 folds for each of 30 candidates, totalling 90 fits\n"
          ],
          "name": "stdout"
        },
        {
          "output_type": "stream",
          "text": [
            "[Parallel(n_jobs=-1)]: Using backend LokyBackend with 2 concurrent workers.\n",
            "[Parallel(n_jobs=-1)]: Done  46 tasks      | elapsed:    9.1s\n"
          ],
          "name": "stderr"
        },
        {
          "output_type": "stream",
          "text": [
            "0.9987992685025816 \n",
            "\n",
            "Pipeline(memory=None,\n",
            "     steps=[('featureunion', DataFrameMapper(default=False, df_out=True,\n",
            "        features=[(['age'], SimpleImputer(copy=True, fill_value=None, missing_values=nan,\n",
            "       strategy='median', verbose=0)), (['bp'], SimpleImputer(copy=True, fill_value=None, missing_values=nan,\n",
            "       strategy='median', verbos...\n",
            "       reg_alpha=0, reg_lambda=1, scale_pos_weight=1, seed=None,\n",
            "       silent=True, subsample=1))]) \n",
            "\n",
            "{'clf__n_estimators': 100, 'clf__max_depth': 6, 'clf__learning_rate': 0.05}\n"
          ],
          "name": "stdout"
        },
        {
          "output_type": "stream",
          "text": [
            "[Parallel(n_jobs=-1)]: Done  90 out of  90 | elapsed:   17.8s finished\n"
          ],
          "name": "stderr"
        }
      ]
    },
    {
      "metadata": {
        "id": "cIMaWd45BcaV",
        "colab_type": "code",
        "colab": {
          "base_uri": "https://localhost:8080/",
          "height": 87
        },
        "outputId": "cf16c370-bed0-4bcb-d5d2-080663fb80bb"
      },
      "cell_type": "code",
      "source": [
        "gbm_param_grid"
      ],
      "execution_count": 83,
      "outputs": [
        {
          "output_type": "execute_result",
          "data": {
            "text/plain": [
              "{'clf__learning_rate': array([0.05, 0.1 , 0.15, 0.2 , 0.25, 0.3 , 0.35, 0.4 , 0.45, 0.5 , 0.55,\n",
              "        0.6 , 0.65, 0.7 , 0.75, 0.8 , 0.85, 0.9 , 0.95]),\n",
              " 'clf__max_depth': array([3, 4, 5, 6, 7, 8, 9]),\n",
              " 'clf__n_estimators': array([ 50, 100, 150])}"
            ]
          },
          "metadata": {
            "tags": []
          },
          "execution_count": 83
        }
      ]
    },
    {
      "metadata": {
        "id": "m4WueLX5Z3e7",
        "colab_type": "text"
      },
      "cell_type": "markdown",
      "source": [
        "###Try GridSearchCV"
      ]
    },
    {
      "metadata": {
        "id": "PTsOVWY6EUZy",
        "colab_type": "code",
        "colab": {
          "base_uri": "https://localhost:8080/",
          "height": 336
        },
        "outputId": "e291a9dd-fd21-428e-8911-97a07adbf1fd"
      },
      "cell_type": "code",
      "source": [
        "#Default for XGBClassifier: \n",
        "#  learning_rate = 0.1\n",
        "#  max_depth=3\n",
        "#  n_estimators=100\n",
        "\n",
        "# Create the parameter grid\n",
        "gbm_param_grid = {\n",
        "    'clf__learning_rate': np.arange(0.05, 1, 0.05), # 19 values\n",
        "    'clf__max_depth': np.arange(3, 10, 1),          #7 values\n",
        "    'clf__n_estimators': np.arange(50, 200, 50)     #3 values\n",
        "}\n",
        "\n",
        "# Perform GridSearchCV\n",
        "gridsearch_roc_auc = GridSearchCV(pipeline, param_grid=gbm_param_grid,scoring='roc_auc', cv=3, verbose=1, n_jobs=-1)\n",
        "\n",
        "# Fit the estimator\n",
        "gridsearch_roc_auc.fit(X,y)\n",
        "\n",
        "# Compute metrics\n",
        "print(gridsearch_roc_auc.best_score_, \"\\n\")\n",
        "print(gridsearch_roc_auc.best_estimator_, \"\\n\")\n",
        "print(gridsearch_roc_auc.best_params_)"
      ],
      "execution_count": 84,
      "outputs": [
        {
          "output_type": "stream",
          "text": [
            "Fitting 3 folds for each of 399 candidates, totalling 1197 fits\n"
          ],
          "name": "stdout"
        },
        {
          "output_type": "stream",
          "text": [
            "[Parallel(n_jobs=-1)]: Using backend LokyBackend with 2 concurrent workers.\n",
            "[Parallel(n_jobs=-1)]: Done  46 tasks      | elapsed:    9.4s\n",
            "[Parallel(n_jobs=-1)]: Done 196 tasks      | elapsed:   39.8s\n",
            "[Parallel(n_jobs=-1)]: Done 446 tasks      | elapsed:  1.5min\n",
            "[Parallel(n_jobs=-1)]: Done 796 tasks      | elapsed:  2.6min\n"
          ],
          "name": "stderr"
        },
        {
          "output_type": "stream",
          "text": [
            "0.9989595094664372 \n",
            "\n",
            "Pipeline(memory=None,\n",
            "     steps=[('featureunion', DataFrameMapper(default=False, df_out=True,\n",
            "        features=[(['age'], SimpleImputer(copy=True, fill_value=None, missing_values=nan,\n",
            "       strategy='median', verbose=0)), (['bp'], SimpleImputer(copy=True, fill_value=None, missing_values=nan,\n",
            "       strategy='median', verbos...\n",
            "       reg_alpha=0, reg_lambda=1, scale_pos_weight=1, seed=None,\n",
            "       silent=True, subsample=1))]) \n",
            "\n",
            "{'clf__learning_rate': 0.1, 'clf__max_depth': 3, 'clf__n_estimators': 50}\n"
          ],
          "name": "stdout"
        },
        {
          "output_type": "stream",
          "text": [
            "[Parallel(n_jobs=-1)]: Done 1197 out of 1197 | elapsed:  4.0min finished\n"
          ],
          "name": "stderr"
        }
      ]
    },
    {
      "metadata": {
        "id": "BeTjxDKaZqpW",
        "colab_type": "code",
        "colab": {}
      },
      "cell_type": "code",
      "source": [
        ""
      ],
      "execution_count": 0,
      "outputs": []
    }
  ]
}