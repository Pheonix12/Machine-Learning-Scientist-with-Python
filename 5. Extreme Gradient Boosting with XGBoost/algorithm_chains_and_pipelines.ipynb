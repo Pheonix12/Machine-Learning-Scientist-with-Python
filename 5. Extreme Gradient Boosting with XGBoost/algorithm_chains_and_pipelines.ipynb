{
  "nbformat": 4,
  "nbformat_minor": 0,
  "metadata": {
    "colab": {
      "name": "06-algorithm-chains-and-pipelines.ipynb",
      "version": "0.3.2",
      "provenance": [],
      "collapsed_sections": [
        "oa36YKFZPFRn",
        "D0MFlI_XPFRx",
        "9ItTKRH0PFR7",
        "Oh3JHKQsPFSB"
      ]
    },
    "kernelspec": {
      "name": "python3",
      "display_name": "Python 3"
    }
  },
  "cells": [
    {
      "metadata": {
        "id": "cp2-u_6NPJCh",
        "colab_type": "code",
        "outputId": "194586a2-f2b7-4cc8-e9a3-cd95210c2b5e",
        "colab": {
          "base_uri": "https://localhost:8080/",
          "height": 34
        }
      },
      "cell_type": "code",
      "source": [
        "!wget --no-verbose https://raw.githubusercontent.com/gisandnes/introduction_to_ml_with_python/master/preamble.py -O preamble.py"
      ],
      "execution_count": 0,
      "outputs": [
        {
          "output_type": "stream",
          "text": [
            "2019-01-18 14:10:47 URL:https://raw.githubusercontent.com/gisandnes/introduction_to_ml_with_python/master/preamble.py [774/774] -> \"preamble.py\" [1]\n"
          ],
          "name": "stdout"
        }
      ]
    },
    {
      "metadata": {
        "id": "9r1c1YTaP21t",
        "colab_type": "code",
        "outputId": "41ed5428-5be9-4118-b095-4471fd22b3de",
        "colab": {
          "base_uri": "https://localhost:8080/",
          "height": 443
        }
      },
      "cell_type": "code",
      "source": [
        "!pip install mglearn"
      ],
      "execution_count": 0,
      "outputs": [
        {
          "output_type": "stream",
          "text": [
            "Collecting mglearn\n",
            "\u001b[?25l  Downloading https://files.pythonhosted.org/packages/fb/01/8d3630ecc767c9de96a9c46e055f2a3a5f9e14a47d3d0348a36a5005fe67/mglearn-0.1.7.tar.gz (540kB)\n",
            "\u001b[K    100% |████████████████████████████████| 542kB 23.8MB/s \n",
            "\u001b[?25hRequirement already satisfied: numpy in /usr/local/lib/python3.6/dist-packages (from mglearn) (1.14.6)\n",
            "Requirement already satisfied: matplotlib in /usr/local/lib/python3.6/dist-packages (from mglearn) (3.0.2)\n",
            "Requirement already satisfied: scikit-learn in /usr/local/lib/python3.6/dist-packages (from mglearn) (0.20.2)\n",
            "Requirement already satisfied: pandas in /usr/local/lib/python3.6/dist-packages (from mglearn) (0.22.0)\n",
            "Requirement already satisfied: pillow in /usr/local/lib/python3.6/dist-packages (from mglearn) (4.0.0)\n",
            "Requirement already satisfied: cycler in /usr/local/lib/python3.6/dist-packages (from mglearn) (0.10.0)\n",
            "Requirement already satisfied: imageio in /usr/local/lib/python3.6/dist-packages (from mglearn) (2.4.1)\n",
            "Requirement already satisfied: kiwisolver>=1.0.1 in /usr/local/lib/python3.6/dist-packages (from matplotlib->mglearn) (1.0.1)\n",
            "Requirement already satisfied: python-dateutil>=2.1 in /usr/local/lib/python3.6/dist-packages (from matplotlib->mglearn) (2.5.3)\n",
            "Requirement already satisfied: pyparsing!=2.0.4,!=2.1.2,!=2.1.6,>=2.0.1 in /usr/local/lib/python3.6/dist-packages (from matplotlib->mglearn) (2.3.1)\n",
            "Requirement already satisfied: scipy>=0.13.3 in /usr/local/lib/python3.6/dist-packages (from scikit-learn->mglearn) (1.1.0)\n",
            "Requirement already satisfied: pytz>=2011k in /usr/local/lib/python3.6/dist-packages (from pandas->mglearn) (2018.9)\n",
            "Requirement already satisfied: olefile in /usr/local/lib/python3.6/dist-packages (from pillow->mglearn) (0.46)\n",
            "Requirement already satisfied: six in /usr/local/lib/python3.6/dist-packages (from cycler->mglearn) (1.11.0)\n",
            "Requirement already satisfied: setuptools in /usr/local/lib/python3.6/dist-packages (from kiwisolver>=1.0.1->matplotlib->mglearn) (40.6.3)\n",
            "Building wheels for collected packages: mglearn\n",
            "  Running setup.py bdist_wheel for mglearn ... \u001b[?25l-\b \b\\\b \b|\b \bdone\n",
            "\u001b[?25h  Stored in directory: /root/.cache/pip/wheels/74/cf/8d/04f4932d15854a36726c6210763c7127e62de28f5c8ddfcf3b\n",
            "Successfully built mglearn\n",
            "Installing collected packages: mglearn\n",
            "Successfully installed mglearn-0.1.7\n"
          ],
          "name": "stdout"
        }
      ]
    },
    {
      "metadata": {
        "hide_input": false,
        "id": "4lbeIDEzPFQg",
        "colab_type": "code",
        "colab": {}
      },
      "cell_type": "code",
      "source": [
        "from preamble import *\n",
        "%matplotlib inline"
      ],
      "execution_count": 0,
      "outputs": []
    },
    {
      "metadata": {
        "id": "v0kDwy1IPFQn",
        "colab_type": "text"
      },
      "cell_type": "markdown",
      "source": [
        "## Algorithm Chains and Pipelines"
      ]
    },
    {
      "metadata": {
        "id": "eBA5l90FPFQo",
        "colab_type": "code",
        "colab": {}
      },
      "cell_type": "code",
      "source": [
        "from sklearn.svm import SVC\n",
        "from sklearn.datasets import load_breast_cancer\n",
        "from sklearn.model_selection import train_test_split\n",
        "from sklearn.preprocessing import MinMaxScaler\n",
        "\n",
        "# load and split the data\n",
        "cancer = load_breast_cancer()\n",
        "X_train, X_test, y_train, y_test = train_test_split(\n",
        "    cancer.data, cancer.target, random_state=0)\n",
        "\n",
        "# compute minimum and maximum on the training data\n",
        "scaler = MinMaxScaler().fit(X_train)"
      ],
      "execution_count": 0,
      "outputs": []
    },
    {
      "metadata": {
        "id": "FvwbR1l8PFQr",
        "colab_type": "code",
        "outputId": "dc032cb2-a907-492f-8d96-3c033d6b839d",
        "colab": {
          "base_uri": "https://localhost:8080/",
          "height": 90
        }
      },
      "cell_type": "code",
      "source": [
        "# rescale the training data\n",
        "X_train_scaled = scaler.transform(X_train)\n",
        "\n",
        "svm = SVC()\n",
        "# learn an SVM on the scaled training data\n",
        "svm.fit(X_train_scaled, y_train)\n",
        "# scale the test data and score the scaled data\n",
        "X_test_scaled = scaler.transform(X_test)\n",
        "print(\"Test score: {:.2f}\".format(svm.score(X_test_scaled, y_test)))"
      ],
      "execution_count": 0,
      "outputs": [
        {
          "output_type": "stream",
          "text": [
            "Test score: 0.95\n"
          ],
          "name": "stdout"
        },
        {
          "output_type": "stream",
          "text": [
            "/usr/local/lib/python3.6/dist-packages/sklearn/svm/base.py:196: FutureWarning: The default value of gamma will change from 'auto' to 'scale' in version 0.22 to account better for unscaled features. Set gamma explicitly to 'auto' or 'scale' to avoid this warning.\n",
            "  \"avoid this warning.\", FutureWarning)\n"
          ],
          "name": "stderr"
        }
      ]
    },
    {
      "metadata": {
        "id": "KNON7RvZPFQx",
        "colab_type": "text"
      },
      "cell_type": "markdown",
      "source": [
        "### Parameter Selection with Preprocessing "
      ]
    },
    {
      "metadata": {
        "id": "-mZxogwFPFQy",
        "colab_type": "code",
        "outputId": "5edcce20-80d3-44a3-d708-e82064536cef",
        "colab": {
          "base_uri": "https://localhost:8080/",
          "height": 70
        }
      },
      "cell_type": "code",
      "source": [
        "from sklearn.model_selection import GridSearchCV\n",
        "# for illustration purposes only, don't use this code!\n",
        "param_grid = {'C': [0.001, 0.01, 0.1, 1, 10, 100],\n",
        "              'gamma': [0.001, 0.01, 0.1, 1, 10, 100]}\n",
        "grid = GridSearchCV(SVC(), param_grid=param_grid, cv=5)\n",
        "grid.fit(X_train_scaled, y_train)\n",
        "print(\"Best cross-validation accuracy: {:.2f}\".format(grid.best_score_))\n",
        "print(\"Best parameters: \", grid.best_params_)\n",
        "print(\"Test set accuracy: {:.2f}\".format(grid.score(X_test_scaled, y_test)))"
      ],
      "execution_count": 0,
      "outputs": [
        {
          "output_type": "stream",
          "text": [
            "Best cross-validation accuracy: 0.98\n",
            "Best parameters:  {'C': 1, 'gamma': 1}\n",
            "Test set accuracy: 0.97\n"
          ],
          "name": "stdout"
        }
      ]
    },
    {
      "metadata": {
        "hide_input": false,
        "id": "ORATs7haPFQ1",
        "colab_type": "code",
        "outputId": "8764d6bb-5699-4ac9-de96-16aac6cbe09f",
        "colab": {
          "base_uri": "https://localhost:8080/",
          "height": 601
        }
      },
      "cell_type": "code",
      "source": [
        "mglearn.plots.plot_improper_processing()"
      ],
      "execution_count": 0,
      "outputs": [
        {
          "output_type": "display_data",
          "data": {
            "image/png": "[encoded data removed]",
            "application/pdf": "[encoded data removed]",
            "text/plain": [
              "<Figure size 1080x720 with 2 Axes>"
            ]
          },
          "metadata": {
            "tags": []
          }
        }
      ]
    },
    {
      "metadata": {
        "id": "-b8OI3kbPFQ5",
        "colab_type": "text"
      },
      "cell_type": "markdown",
      "source": [
        "### Building Pipelines"
      ]
    },
    {
      "metadata": {
        "id": "bJ0YSFfMPFQ7",
        "colab_type": "code",
        "colab": {}
      },
      "cell_type": "code",
      "source": [
        "from sklearn.pipeline import Pipeline\n",
        "pipe = Pipeline([(\"scaler\", MinMaxScaler()), (\"svm\", SVC())])"
      ],
      "execution_count": 0,
      "outputs": []
    },
    {
      "metadata": {
        "id": "FNtMn_QYPFQ9",
        "colab_type": "code",
        "outputId": "a8a28282-6a05-4e23-d39f-c0f5e02ef34c",
        "colab": {
          "base_uri": "https://localhost:8080/",
          "height": 161
        }
      },
      "cell_type": "code",
      "source": [
        "pipe.fit(X_train, y_train)"
      ],
      "execution_count": 0,
      "outputs": [
        {
          "output_type": "stream",
          "text": [
            "/usr/local/lib/python3.6/dist-packages/sklearn/svm/base.py:196: FutureWarning: The default value of gamma will change from 'auto' to 'scale' in version 0.22 to account better for unscaled features. Set gamma explicitly to 'auto' or 'scale' to avoid this warning.\n",
            "  \"avoid this warning.\", FutureWarning)\n"
          ],
          "name": "stderr"
        },
        {
          "output_type": "execute_result",
          "data": {
            "text/plain": [
              "Pipeline(memory=None,\n",
              "     steps=[('scaler', MinMaxScaler(copy=True, feature_range=(0, 1))), ('svm', SVC(C=1.0, cache_size=200, class_weight=None, coef0=0.0,\n",
              "  decision_function_shape='ovr', degree=3, gamma='auto_deprecated',\n",
              "  kernel='rbf', max_iter=-1, probability=False, random_state=None,\n",
              "  shrinking=True, tol=0.001, verbose=False))])"
            ]
          },
          "metadata": {
            "tags": []
          },
          "execution_count": 9
        }
      ]
    },
    {
      "metadata": {
        "id": "saUflw6gPFRB",
        "colab_type": "code",
        "outputId": "508f7ca1-b9b9-42e2-f996-6f8f1e842a19",
        "colab": {
          "base_uri": "https://localhost:8080/",
          "height": 34
        }
      },
      "cell_type": "code",
      "source": [
        "print(\"Test score: {:.2f}\".format(pipe.score(X_test, y_test)))"
      ],
      "execution_count": 0,
      "outputs": [
        {
          "output_type": "stream",
          "text": [
            "Test score: 0.95\n"
          ],
          "name": "stdout"
        }
      ]
    },
    {
      "metadata": {
        "id": "-8UUcq8gPFRE",
        "colab_type": "text"
      },
      "cell_type": "markdown",
      "source": [
        "### Using Pipelines in Grid-searches"
      ]
    },
    {
      "metadata": {
        "scrolled": true,
        "id": "JbNCG0y1PFRF",
        "colab_type": "code",
        "colab": {}
      },
      "cell_type": "code",
      "source": [
        "param_grid = {'svm__C': [0.001, 0.01, 0.1, 1, 10, 100],\n",
        "              'svm__gamma': [0.001, 0.01, 0.1, 1, 10, 100]}"
      ],
      "execution_count": 0,
      "outputs": []
    },
    {
      "metadata": {
        "id": "PMYKBOwQPFRI",
        "colab_type": "code",
        "outputId": "9123c92d-7635-454d-95f9-854ce584d88f",
        "colab": {
          "base_uri": "https://localhost:8080/",
          "height": 70
        }
      },
      "cell_type": "code",
      "source": [
        "grid = GridSearchCV(pipe, param_grid=param_grid, cv=5)\n",
        "grid.fit(X_train, y_train)\n",
        "print(\"Best cross-validation accuracy: {:.2f}\".format(grid.best_score_))\n",
        "print(\"Test set score: {:.2f}\".format(grid.score(X_test, y_test)))\n",
        "print(\"Best parameters: {}\".format(grid.best_params_))"
      ],
      "execution_count": 0,
      "outputs": [
        {
          "output_type": "stream",
          "text": [
            "Best cross-validation accuracy: 0.98\n",
            "Test set score: 0.97\n",
            "Best parameters: {'svm__C': 1, 'svm__gamma': 1}\n"
          ],
          "name": "stdout"
        }
      ]
    },
    {
      "metadata": {
        "hide_input": false,
        "id": "vn-CA9f7PFRM",
        "colab_type": "code",
        "outputId": "b862eb09-797e-4a18-8e12-edc294abb733",
        "colab": {
          "base_uri": "https://localhost:8080/",
          "height": 492
        }
      },
      "cell_type": "code",
      "source": [
        "mglearn.plots.plot_proper_processing()"
      ],
      "execution_count": 0,
      "outputs": [
        {
          "output_type": "display_data",
          "data": {
            "image/png": "[encoded data removed]",
            "application/pdf": "[encoded data removed]",
            "text/plain": [
              "<Figure size 1080x576 with 2 Axes>"
            ]
          },
          "metadata": {
            "tags": []
          }
        }
      ]
    },
    {
      "metadata": {
        "id": "Ihe8e1YZPFRQ",
        "colab_type": "code",
        "colab": {}
      },
      "cell_type": "code",
      "source": [
        "rnd = np.random.RandomState(seed=0)\n",
        "X = rnd.normal(size=(100, 10000))\n",
        "y = rnd.normal(size=(100,))"
      ],
      "execution_count": 0,
      "outputs": []
    },
    {
      "metadata": {
        "id": "qnnotpfEPFRT",
        "colab_type": "code",
        "outputId": "6840376b-295d-423f-a837-8f5d93987d3e",
        "colab": {
          "base_uri": "https://localhost:8080/",
          "height": 34
        }
      },
      "cell_type": "code",
      "source": [
        "from sklearn.feature_selection import SelectPercentile, f_regression\n",
        "\n",
        "select = SelectPercentile(score_func=f_regression, percentile=5).fit(X, y)\n",
        "X_selected = select.transform(X)\n",
        "print(\"X_selected.shape: {}\".format(X_selected.shape))"
      ],
      "execution_count": 0,
      "outputs": [
        {
          "output_type": "stream",
          "text": [
            "X_selected.shape: (100, 500)\n"
          ],
          "name": "stdout"
        }
      ]
    },
    {
      "metadata": {
        "id": "HKJ9Uqt_PFRb",
        "colab_type": "code",
        "outputId": "9a7c9d4a-2486-42ef-cd9a-5cbd76c42d3f",
        "colab": {
          "base_uri": "https://localhost:8080/",
          "height": 34
        }
      },
      "cell_type": "code",
      "source": [
        "from sklearn.model_selection import cross_val_score\n",
        "from sklearn.linear_model import Ridge\n",
        "print(\"Cross-validation accuracy (cv only on ridge): {:.2f}\".format(\n",
        "      np.mean(cross_val_score(Ridge(), X_selected, y, cv=5))))"
      ],
      "execution_count": 0,
      "outputs": [
        {
          "output_type": "stream",
          "text": [
            "Cross-validation accuracy (cv only on ridge): 0.91\n"
          ],
          "name": "stdout"
        }
      ]
    },
    {
      "metadata": {
        "id": "cf6yIVjFPFRh",
        "colab_type": "code",
        "outputId": "86d328f4-38e6-480a-cd4b-d1d31f98cfd1",
        "colab": {
          "base_uri": "https://localhost:8080/",
          "height": 34
        }
      },
      "cell_type": "code",
      "source": [
        "pipe = Pipeline([(\"select\", SelectPercentile(score_func=f_regression,\n",
        "                                             percentile=5)),\n",
        "                 (\"ridge\", Ridge())])\n",
        "print(\"Cross-validation accuracy (pipeline): {:.2f}\".format(\n",
        "      np.mean(cross_val_score(pipe, X, y, cv=5))))"
      ],
      "execution_count": 0,
      "outputs": [
        {
          "output_type": "stream",
          "text": [
            "Cross-validation accuracy (pipeline): -0.25\n"
          ],
          "name": "stdout"
        }
      ]
    },
    {
      "metadata": {
        "id": "oa36YKFZPFRn",
        "colab_type": "text"
      },
      "cell_type": "markdown",
      "source": [
        "### The General Pipeline Interface"
      ]
    },
    {
      "metadata": {
        "id": "82p7bOEiPFRo",
        "colab_type": "code",
        "colab": {}
      },
      "cell_type": "code",
      "source": [
        "def fit(self, X, y):\n",
        "    X_transformed = X\n",
        "    for name, estimator in self.steps[:-1]:\n",
        "        # iterate over all but the final step\n",
        "        # fit and transform the data\n",
        "        X_transformed = estimator.fit_transform(X_transformed, y)\n",
        "    # fit the last step\n",
        "    self.steps[-1][1].fit(X_transformed, y)\n",
        "    return self"
      ],
      "execution_count": 0,
      "outputs": []
    },
    {
      "metadata": {
        "id": "s4lkfAlAPFRs",
        "colab_type": "code",
        "colab": {}
      },
      "cell_type": "code",
      "source": [
        "def predict(self, X):\n",
        "    X_transformed = X\n",
        "    for step in self.steps[:-1]:\n",
        "        # iterate over all but the final step\n",
        "        # transform the data\n",
        "        X_transformed = step[1].transform(X_transformed)\n",
        "    # predict using the last step\n",
        "    return self.steps[-1][1].predict(X_transformed)"
      ],
      "execution_count": 0,
      "outputs": []
    },
    {
      "metadata": {
        "id": "bgRNYUZNPFRw",
        "colab_type": "text"
      },
      "cell_type": "markdown",
      "source": [
        "![pipeline_illustration](https://github.com/gisandnes/introduction_to_ml_with_python/blob/master/images/pipeline.png?raw=1)"
      ]
    },
    {
      "metadata": {
        "id": "D0MFlI_XPFRx",
        "colab_type": "text"
      },
      "cell_type": "markdown",
      "source": [
        "### Convenient Pipeline creation with ``make_pipeline``"
      ]
    },
    {
      "metadata": {
        "id": "Q90ThVdpPFRy",
        "colab_type": "code",
        "colab": {}
      },
      "cell_type": "code",
      "source": [
        "from sklearn.pipeline import make_pipeline\n",
        "# standard syntax\n",
        "pipe_long = Pipeline([(\"scaler\", MinMaxScaler()), (\"svm\", SVC(C=100))])\n",
        "# abbreviated syntax\n",
        "pipe_short = make_pipeline(MinMaxScaler(), SVC(C=100))"
      ],
      "execution_count": 0,
      "outputs": []
    },
    {
      "metadata": {
        "id": "Mt8diyhMPFR0",
        "colab_type": "code",
        "outputId": "e983798b-0368-4cc3-96b0-643ed131a245",
        "colab": {
          "base_uri": "https://localhost:8080/",
          "height": 125
        }
      },
      "cell_type": "code",
      "source": [
        "print(\"Pipeline steps:\\n{}\".format(pipe_short.steps))"
      ],
      "execution_count": 0,
      "outputs": [
        {
          "output_type": "stream",
          "text": [
            "Pipeline steps:\n",
            "[('minmaxscaler', MinMaxScaler(copy=True, feature_range=(0, 1))), ('svc', SVC(C=100, cache_size=200, class_weight=None, coef0=0.0,\n",
            "  decision_function_shape='ovr', degree=3, gamma='auto_deprecated',\n",
            "  kernel='rbf', max_iter=-1, probability=False, random_state=None,\n",
            "  shrinking=True, tol=0.001, verbose=False))]\n"
          ],
          "name": "stdout"
        }
      ]
    },
    {
      "metadata": {
        "id": "l_gk118ZPFR4",
        "colab_type": "code",
        "outputId": "a643b183-0f03-4e99-8391-1ee0458a68f7",
        "colab": {
          "base_uri": "https://localhost:8080/",
          "height": 90
        }
      },
      "cell_type": "code",
      "source": [
        "from sklearn.preprocessing import StandardScaler\n",
        "from sklearn.decomposition import PCA\n",
        "\n",
        "pipe = make_pipeline(StandardScaler(), PCA(n_components=2), StandardScaler())\n",
        "print(\"Pipeline steps:\\n{}\".format(pipe.steps))"
      ],
      "execution_count": 0,
      "outputs": [
        {
          "output_type": "stream",
          "text": [
            "Pipeline steps:\n",
            "[('standardscaler-1', StandardScaler(copy=True, with_mean=True, with_std=True)), ('pca', PCA(copy=True, iterated_power='auto', n_components=2, random_state=None,\n",
            "  svd_solver='auto', tol=0.0, whiten=False)), ('standardscaler-2', StandardScaler(copy=True, with_mean=True, with_std=True))]\n"
          ],
          "name": "stdout"
        }
      ]
    },
    {
      "metadata": {
        "id": "9ItTKRH0PFR7",
        "colab_type": "text"
      },
      "cell_type": "markdown",
      "source": [
        "#### Accessing step attributes"
      ]
    },
    {
      "metadata": {
        "id": "7TKZp-U-PFR9",
        "colab_type": "code",
        "outputId": "e2e2d09a-6b1f-4546-b7c7-0ceccb9f4f2e",
        "colab": {
          "base_uri": "https://localhost:8080/",
          "height": 54
        }
      },
      "cell_type": "code",
      "source": [
        "# fit the pipeline defined before to the cancer dataset\n",
        "pipe.fit(cancer.data)\n",
        "# extract the first two principal components from the \"pca\" step\n",
        "components = pipe.named_steps[\"pca\"].components_\n",
        "print(\"components.shape: {}\".format(components.shape))"
      ],
      "execution_count": 0,
      "outputs": [
        {
          "output_type": "stream",
          "text": [
            "components.shape: (2, 30)\n"
          ],
          "name": "stdout"
        }
      ]
    },
    {
      "metadata": {
        "id": "Oh3JHKQsPFSB",
        "colab_type": "text"
      },
      "cell_type": "markdown",
      "source": [
        "#### Accessing Attributes in a Pipeline inside GridSearchCV"
      ]
    },
    {
      "metadata": {
        "id": "QLfpl21aPFSB",
        "colab_type": "code",
        "colab": {}
      },
      "cell_type": "code",
      "source": [
        "from sklearn.linear_model import LogisticRegression\n",
        "\n",
        "pipe = make_pipeline(StandardScaler(), LogisticRegression())"
      ],
      "execution_count": 0,
      "outputs": []
    },
    {
      "metadata": {
        "id": "XNJ3okfjPFSE",
        "colab_type": "code",
        "colab": {}
      },
      "cell_type": "code",
      "source": [
        "param_grid = {'logisticregression__C': [0.01, 0.1, 1, 10, 100]}"
      ],
      "execution_count": 0,
      "outputs": []
    },
    {
      "metadata": {
        "id": "aYl49qvOPFSK",
        "colab_type": "code",
        "outputId": "45082b49-b8a2-4d92-aa65-afc86435703a",
        "colab": {
          "base_uri": "https://localhost:8080/",
          "height": 1138
        }
      },
      "cell_type": "code",
      "source": [
        "X_train, X_test, y_train, y_test = train_test_split(\n",
        "    cancer.data, cancer.target, random_state=4)\n",
        "grid = GridSearchCV(pipe, param_grid, cv=5)\n",
        "grid.fit(X_train, y_train)"
      ],
      "execution_count": 0,
      "outputs": [
        {
          "output_type": "stream",
          "text": [
            "/usr/local/lib/python3.6/dist-packages/sklearn/linear_model/logistic.py:433: FutureWarning: Default solver will be changed to 'lbfgs' in 0.22. Specify a solver to silence this warning.\n",
            "  FutureWarning)\n",
            "/usr/local/lib/python3.6/dist-packages/sklearn/linear_model/logistic.py:433: FutureWarning: Default solver will be changed to 'lbfgs' in 0.22. Specify a solver to silence this warning.\n",
            "  FutureWarning)\n",
            "/usr/local/lib/python3.6/dist-packages/sklearn/linear_model/logistic.py:433: FutureWarning: Default solver will be changed to 'lbfgs' in 0.22. Specify a solver to silence this warning.\n",
            "  FutureWarning)\n",
            "/usr/local/lib/python3.6/dist-packages/sklearn/linear_model/logistic.py:433: FutureWarning: Default solver will be changed to 'lbfgs' in 0.22. Specify a solver to silence this warning.\n",
            "  FutureWarning)\n",
            "/usr/local/lib/python3.6/dist-packages/sklearn/linear_model/logistic.py:433: FutureWarning: Default solver will be changed to 'lbfgs' in 0.22. Specify a solver to silence this warning.\n",
            "  FutureWarning)\n",
            "/usr/local/lib/python3.6/dist-packages/sklearn/linear_model/logistic.py:433: FutureWarning: Default solver will be changed to 'lbfgs' in 0.22. Specify a solver to silence this warning.\n",
            "  FutureWarning)\n",
            "/usr/local/lib/python3.6/dist-packages/sklearn/linear_model/logistic.py:433: FutureWarning: Default solver will be changed to 'lbfgs' in 0.22. Specify a solver to silence this warning.\n",
            "  FutureWarning)\n",
            "/usr/local/lib/python3.6/dist-packages/sklearn/linear_model/logistic.py:433: FutureWarning: Default solver will be changed to 'lbfgs' in 0.22. Specify a solver to silence this warning.\n",
            "  FutureWarning)\n",
            "/usr/local/lib/python3.6/dist-packages/sklearn/linear_model/logistic.py:433: FutureWarning: Default solver will be changed to 'lbfgs' in 0.22. Specify a solver to silence this warning.\n",
            "  FutureWarning)\n",
            "/usr/local/lib/python3.6/dist-packages/sklearn/linear_model/logistic.py:433: FutureWarning: Default solver will be changed to 'lbfgs' in 0.22. Specify a solver to silence this warning.\n",
            "  FutureWarning)\n",
            "/usr/local/lib/python3.6/dist-packages/sklearn/linear_model/logistic.py:433: FutureWarning: Default solver will be changed to 'lbfgs' in 0.22. Specify a solver to silence this warning.\n",
            "  FutureWarning)\n",
            "/usr/local/lib/python3.6/dist-packages/sklearn/linear_model/logistic.py:433: FutureWarning: Default solver will be changed to 'lbfgs' in 0.22. Specify a solver to silence this warning.\n",
            "  FutureWarning)\n",
            "/usr/local/lib/python3.6/dist-packages/sklearn/linear_model/logistic.py:433: FutureWarning: Default solver will be changed to 'lbfgs' in 0.22. Specify a solver to silence this warning.\n",
            "  FutureWarning)\n",
            "/usr/local/lib/python3.6/dist-packages/sklearn/linear_model/logistic.py:433: FutureWarning: Default solver will be changed to 'lbfgs' in 0.22. Specify a solver to silence this warning.\n",
            "  FutureWarning)\n",
            "/usr/local/lib/python3.6/dist-packages/sklearn/linear_model/logistic.py:433: FutureWarning: Default solver will be changed to 'lbfgs' in 0.22. Specify a solver to silence this warning.\n",
            "  FutureWarning)\n",
            "/usr/local/lib/python3.6/dist-packages/sklearn/linear_model/logistic.py:433: FutureWarning: Default solver will be changed to 'lbfgs' in 0.22. Specify a solver to silence this warning.\n",
            "  FutureWarning)\n",
            "/usr/local/lib/python3.6/dist-packages/sklearn/linear_model/logistic.py:433: FutureWarning: Default solver will be changed to 'lbfgs' in 0.22. Specify a solver to silence this warning.\n",
            "  FutureWarning)\n",
            "/usr/local/lib/python3.6/dist-packages/sklearn/linear_model/logistic.py:433: FutureWarning: Default solver will be changed to 'lbfgs' in 0.22. Specify a solver to silence this warning.\n",
            "  FutureWarning)\n",
            "/usr/local/lib/python3.6/dist-packages/sklearn/linear_model/logistic.py:433: FutureWarning: Default solver will be changed to 'lbfgs' in 0.22. Specify a solver to silence this warning.\n",
            "  FutureWarning)\n",
            "/usr/local/lib/python3.6/dist-packages/sklearn/linear_model/logistic.py:433: FutureWarning: Default solver will be changed to 'lbfgs' in 0.22. Specify a solver to silence this warning.\n",
            "  FutureWarning)\n",
            "/usr/local/lib/python3.6/dist-packages/sklearn/linear_model/logistic.py:433: FutureWarning: Default solver will be changed to 'lbfgs' in 0.22. Specify a solver to silence this warning.\n",
            "  FutureWarning)\n",
            "/usr/local/lib/python3.6/dist-packages/sklearn/linear_model/logistic.py:433: FutureWarning: Default solver will be changed to 'lbfgs' in 0.22. Specify a solver to silence this warning.\n",
            "  FutureWarning)\n",
            "/usr/local/lib/python3.6/dist-packages/sklearn/linear_model/logistic.py:433: FutureWarning: Default solver will be changed to 'lbfgs' in 0.22. Specify a solver to silence this warning.\n",
            "  FutureWarning)\n",
            "/usr/local/lib/python3.6/dist-packages/sklearn/linear_model/logistic.py:433: FutureWarning: Default solver will be changed to 'lbfgs' in 0.22. Specify a solver to silence this warning.\n",
            "  FutureWarning)\n",
            "/usr/local/lib/python3.6/dist-packages/sklearn/linear_model/logistic.py:433: FutureWarning: Default solver will be changed to 'lbfgs' in 0.22. Specify a solver to silence this warning.\n",
            "  FutureWarning)\n",
            "/usr/local/lib/python3.6/dist-packages/sklearn/linear_model/logistic.py:433: FutureWarning: Default solver will be changed to 'lbfgs' in 0.22. Specify a solver to silence this warning.\n",
            "  FutureWarning)\n"
          ],
          "name": "stderr"
        },
        {
          "output_type": "execute_result",
          "data": {
            "text/plain": [
              "GridSearchCV(cv=5, error_score='raise-deprecating',\n",
              "       estimator=Pipeline(memory=None,\n",
              "     steps=[('standardscaler', StandardScaler(copy=True, with_mean=True, with_std=True)), ('logisticregression', LogisticRegression(C=1.0, class_weight=None, dual=False, fit_intercept=True,\n",
              "          intercept_scaling=1, max_iter=100, multi_class='warn',\n",
              "          n_jobs=None, penalty='l2', random_state=None, solver='warn',\n",
              "          tol=0.0001, verbose=0, warm_start=False))]),\n",
              "       fit_params=None, iid='warn', n_jobs=None,\n",
              "       param_grid={'logisticregression__C': [0.01, 0.1, 1, 10, 100]},\n",
              "       pre_dispatch='2*n_jobs', refit=True, return_train_score='warn',\n",
              "       scoring=None, verbose=0)"
            ]
          },
          "metadata": {
            "tags": []
          },
          "execution_count": 26
        }
      ]
    },
    {
      "metadata": {
        "id": "CEKSiKQcPFSO",
        "colab_type": "code",
        "outputId": "7e4d5218-2bbd-45e9-c0b3-0a769b216e86",
        "colab": {
          "base_uri": "https://localhost:8080/",
          "height": 143
        }
      },
      "cell_type": "code",
      "source": [
        "print(\"Best estimator:\\n{}\".format(grid.best_estimator_))"
      ],
      "execution_count": 0,
      "outputs": [
        {
          "output_type": "stream",
          "text": [
            "Best estimator:\n",
            "Pipeline(memory=None,\n",
            "     steps=[('standardscaler', StandardScaler(copy=True, with_mean=True, with_std=True)), ('logisticregression', LogisticRegression(C=0.1, class_weight=None, dual=False, fit_intercept=True,\n",
            "          intercept_scaling=1, max_iter=100, multi_class='warn',\n",
            "          n_jobs=None, penalty='l2', random_state=None, solver='warn',\n",
            "          tol=0.0001, verbose=0, warm_start=False))])\n"
          ],
          "name": "stdout"
        }
      ]
    },
    {
      "metadata": {
        "id": "qeGQHTvPPFSS",
        "colab_type": "code",
        "outputId": "0818e9f0-56cb-4a1a-bf62-f99027142782",
        "colab": {
          "base_uri": "https://localhost:8080/",
          "height": 125
        }
      },
      "cell_type": "code",
      "source": [
        "print(\"Logistic regression step:\\n{}\".format(\n",
        "      grid.best_estimator_.named_steps[\"logisticregression\"]))"
      ],
      "execution_count": 0,
      "outputs": [
        {
          "output_type": "stream",
          "text": [
            "Logistic regression step:\n",
            "LogisticRegression(C=0.1, class_weight=None, dual=False, fit_intercept=True,\n",
            "          intercept_scaling=1, max_iter=100, multi_class='warn',\n",
            "          n_jobs=None, penalty='l2', random_state=None, solver='warn',\n",
            "          tol=0.0001, verbose=0, warm_start=False)\n"
          ],
          "name": "stdout"
        }
      ]
    },
    {
      "metadata": {
        "id": "xvqL2gxlPFSX",
        "colab_type": "code",
        "outputId": "b82a86cb-5848-4216-be84-74b46fb87830",
        "colab": {
          "base_uri": "https://localhost:8080/",
          "height": 107
        }
      },
      "cell_type": "code",
      "source": [
        "print(\"Logistic regression coefficients:\\n{}\".format(\n",
        "      grid.best_estimator_.named_steps[\"logisticregression\"].coef_))"
      ],
      "execution_count": 0,
      "outputs": [
        {
          "output_type": "stream",
          "text": [
            "Logistic regression coefficients:\n",
            "[[-0.389 -0.375 -0.376 -0.396 -0.115  0.017 -0.355 -0.39  -0.058  0.209\n",
            "  -0.495 -0.004 -0.371 -0.383 -0.045  0.198  0.004 -0.049  0.21   0.224\n",
            "  -0.547 -0.525 -0.499 -0.515 -0.393 -0.123 -0.388 -0.417 -0.325 -0.139]]\n"
          ],
          "name": "stdout"
        }
      ]
    },
    {
      "metadata": {
        "id": "lc_soCDgPFSb",
        "colab_type": "text"
      },
      "cell_type": "markdown",
      "source": [
        "### Grid-searching preprocessing steps and model parameters"
      ]
    },
    {
      "metadata": {
        "id": "h-tdlMmZPFSb",
        "colab_type": "code",
        "colab": {}
      },
      "cell_type": "code",
      "source": [
        "from sklearn.datasets import load_boston\n",
        "boston = load_boston()\n",
        "X_train, X_test, y_train, y_test = train_test_split(boston.data, boston.target,\n",
        "                                                    random_state=0)\n",
        "\n",
        "from sklearn.preprocessing import PolynomialFeatures\n",
        "pipe = make_pipeline(\n",
        "    StandardScaler(),\n",
        "    PolynomialFeatures(),\n",
        "    Ridge())"
      ],
      "execution_count": 0,
      "outputs": []
    },
    {
      "metadata": {
        "scrolled": true,
        "id": "_xQ1poHPPFSd",
        "colab_type": "code",
        "colab": {}
      },
      "cell_type": "code",
      "source": [
        "param_grid = {'polynomialfeatures__degree': [1, 2, 3],\n",
        "              'ridge__alpha': [0.001, 0.01, 0.1, 1, 10, 100]}"
      ],
      "execution_count": 0,
      "outputs": []
    },
    {
      "metadata": {
        "scrolled": true,
        "id": "c0GQaPVAPFSf",
        "colab_type": "code",
        "outputId": "766b6f62-6737-43dc-e36a-60e71444396c",
        "colab": {
          "base_uri": "https://localhost:8080/",
          "height": 194
        }
      },
      "cell_type": "code",
      "source": [
        "grid = GridSearchCV(pipe, param_grid=param_grid, cv=5, n_jobs=-1)\n",
        "grid.fit(X_train, y_train)"
      ],
      "execution_count": 0,
      "outputs": [
        {
          "output_type": "stream",
          "text": [
            "/usr/local/lib/python3.6/dist-packages/sklearn/model_selection/_search.py:841: DeprecationWarning: The default of the `iid` parameter will change from True to False in version 0.22 and will be removed in 0.24. This will change numeric results when test-set sizes are unequal.\n",
            "  DeprecationWarning)\n"
          ],
          "name": "stderr"
        },
        {
          "output_type": "execute_result",
          "data": {
            "text/plain": [
              "GridSearchCV(cv=5, error_score='raise-deprecating',\n",
              "       estimator=Pipeline(memory=None,\n",
              "     steps=[('standardscaler', StandardScaler(copy=True, with_mean=True, with_std=True)), ('polynomialfeatures', PolynomialFeatures(degree=2, include_bias=True, interaction_only=False)), ('ridge', Ridge(alpha=1.0, copy_X=True, fit_intercept=True, max_iter=None,\n",
              "   normalize=False, random_state=None, solver='auto', tol=0.001))]),\n",
              "       fit_params=None, iid='warn', n_jobs=-1,\n",
              "       param_grid={'polynomialfeatures__degree': [1, 2, 3], 'ridge__alpha': [0.001, 0.01, 0.1, 1, 10, 100]},\n",
              "       pre_dispatch='2*n_jobs', refit=True, return_train_score='warn',\n",
              "       scoring=None, verbose=0)"
            ]
          },
          "metadata": {
            "tags": []
          },
          "execution_count": 32
        }
      ]
    },
    {
      "metadata": {
        "id": "_nE3WUJsPFSh",
        "colab_type": "code",
        "outputId": "7e3c6efe-7da7-47a6-ac10-65473a19b7d1",
        "colab": {
          "base_uri": "https://localhost:8080/",
          "height": 246
        }
      },
      "cell_type": "code",
      "source": [
        "mglearn.tools.heatmap(grid.cv_results_['mean_test_score'].reshape(3, -1),\n",
        "                      xlabel=\"ridge__alpha\", ylabel=\"polynomialfeatures__degree\",\n",
        "                      xticklabels=param_grid['ridge__alpha'],\n",
        "                      yticklabels=param_grid['polynomialfeatures__degree'], vmin=0)"
      ],
      "execution_count": 0,
      "outputs": [
        {
          "output_type": "execute_result",
          "data": {
            "text/plain": [
              "<matplotlib.collections.PolyCollection at 0x7f1d673d3fd0>"
            ]
          },
          "metadata": {
            "tags": []
          },
          "execution_count": 33
        },
        {
          "output_type": "display_data",
          "data": {
            "image/png": "[encoded data removed]",
            "application/pdf": "[encoded data removed]",
            "text/plain": [
              "<Figure size 432x288 with 1 Axes>"
            ]
          },
          "metadata": {
            "tags": []
          }
        }
      ]
    },
    {
      "metadata": {
        "id": "YrupCORFPFSk",
        "colab_type": "code",
        "outputId": "429ab47c-753e-49fd-d12e-089f05a91e76",
        "colab": {
          "base_uri": "https://localhost:8080/",
          "height": 34
        }
      },
      "cell_type": "code",
      "source": [
        "print(\"Best parameters: {}\".format(grid.best_params_))"
      ],
      "execution_count": 0,
      "outputs": [
        {
          "output_type": "stream",
          "text": [
            "Best parameters: {'polynomialfeatures__degree': 2, 'ridge__alpha': 10}\n"
          ],
          "name": "stdout"
        }
      ]
    },
    {
      "metadata": {
        "id": "Q173wkV-PFSn",
        "colab_type": "code",
        "outputId": "90c20284-db87-4552-d3b2-604e3ba763e3",
        "colab": {
          "base_uri": "https://localhost:8080/",
          "height": 34
        }
      },
      "cell_type": "code",
      "source": [
        "print(\"Test-set score: {:.2f}\".format(grid.score(X_test, y_test)))"
      ],
      "execution_count": 0,
      "outputs": [
        {
          "output_type": "stream",
          "text": [
            "Test-set score: 0.77\n"
          ],
          "name": "stdout"
        }
      ]
    },
    {
      "metadata": {
        "id": "VHzM6N9jPFSt",
        "colab_type": "code",
        "outputId": "b829dc29-924a-4dfe-875f-d746c27c34a8",
        "colab": {
          "base_uri": "https://localhost:8080/",
          "height": 70
        }
      },
      "cell_type": "code",
      "source": [
        "param_grid = {'ridge__alpha': [0.001, 0.01, 0.1, 1, 10, 100]}\n",
        "pipe = make_pipeline(StandardScaler(), Ridge())\n",
        "grid = GridSearchCV(pipe, param_grid, cv=5)\n",
        "grid.fit(X_train, y_train)\n",
        "print(\"Score without poly features: {:.2f}\".format(grid.score(X_test, y_test)))"
      ],
      "execution_count": 0,
      "outputs": [
        {
          "output_type": "stream",
          "text": [
            "Score without poly features: 0.63\n"
          ],
          "name": "stdout"
        },
        {
          "output_type": "stream",
          "text": [
            "/usr/local/lib/python3.6/dist-packages/sklearn/model_selection/_search.py:841: DeprecationWarning: The default of the `iid` parameter will change from True to False in version 0.22 and will be removed in 0.24. This will change numeric results when test-set sizes are unequal.\n",
            "  DeprecationWarning)\n"
          ],
          "name": "stderr"
        }
      ]
    },
    {
      "metadata": {
        "id": "qgJa7HX6PFSx",
        "colab_type": "code",
        "colab": {}
      },
      "cell_type": "code",
      "source": [
        "pipe = Pipeline([('preprocessing', StandardScaler()), ('classifier', SVC())])"
      ],
      "execution_count": 0,
      "outputs": []
    },
    {
      "metadata": {
        "id": "zKk1Z7TWPFS0",
        "colab_type": "code",
        "colab": {}
      },
      "cell_type": "code",
      "source": [
        "from sklearn.ensemble import RandomForestClassifier\n",
        "\n",
        "param_grid = [\n",
        "    {'classifier': [SVC()], 'preprocessing': [StandardScaler(), None],\n",
        "     'classifier__gamma': [0.001, 0.01, 0.1, 1, 10, 100],\n",
        "     'classifier__C': [0.001, 0.01, 0.1, 1, 10, 100]},\n",
        "    {'classifier': [RandomForestClassifier(n_estimators=100)],\n",
        "     'preprocessing': [None], 'classifier__max_features': [1, 2, 3]}]"
      ],
      "execution_count": 0,
      "outputs": []
    },
    {
      "metadata": {
        "id": "Ywq1kW0vPFS5",
        "colab_type": "code",
        "outputId": "a002a8cd-9ac3-43e6-9252-4eba8fca9a33",
        "colab": {
          "base_uri": "https://localhost:8080/",
          "height": 158
        }
      },
      "cell_type": "code",
      "source": [
        "X_train, X_test, y_train, y_test = train_test_split(\n",
        "    cancer.data, cancer.target, random_state=0)\n",
        "\n",
        "grid = GridSearchCV(pipe, param_grid, cv=5)\n",
        "grid.fit(X_train, y_train)\n",
        "\n",
        "print(\"Best params:\\n{}\\n\".format(grid.best_params_))\n",
        "print(\"Best cross-validation score: {:.2f}\".format(grid.best_score_))\n",
        "print(\"Test-set score: {:.2f}\".format(grid.score(X_test, y_test)))"
      ],
      "execution_count": 0,
      "outputs": [
        {
          "output_type": "stream",
          "text": [
            "Best params:\n",
            "{'classifier': SVC(C=10, cache_size=200, class_weight=None, coef0=0.0,\n",
            "  decision_function_shape='ovr', degree=3, gamma=0.01, kernel='rbf',\n",
            "  max_iter=-1, probability=False, random_state=None, shrinking=True,\n",
            "  tol=0.001, verbose=False), 'classifier__C': 10, 'classifier__gamma': 0.01, 'preprocessing': StandardScaler(copy=True, with_mean=True, with_std=True)}\n",
            "\n",
            "Best cross-validation score: 0.99\n",
            "Test-set score: 0.98\n"
          ],
          "name": "stdout"
        }
      ]
    },
    {
      "metadata": {
        "id": "089qsBcnPFS9",
        "colab_type": "text"
      },
      "cell_type": "markdown",
      "source": [
        "#### Avoiding Redundant Computation\n",
        "\n",
        "\n",
        "\n"
      ]
    },
    {
      "metadata": {
        "id": "DtHOw_qoPFS-",
        "colab_type": "code",
        "colab": {}
      },
      "cell_type": "code",
      "source": [
        "pipe = Pipeline([('preprocessing', StandardScaler()), ('classifier', SVC())],\n",
        "                memory=\"cache_folder\")"
      ],
      "execution_count": 0,
      "outputs": []
    },
    {
      "metadata": {
        "id": "7vO0Ld23PFS_",
        "colab_type": "text"
      },
      "cell_type": "markdown",
      "source": [
        "#### Summary and Outlook "
      ]
    },
    {
      "metadata": {
        "id": "cSwuwR8hQ0Ux",
        "colab_type": "code",
        "colab": {}
      },
      "cell_type": "code",
      "source": [
        ""
      ],
      "execution_count": 0,
      "outputs": []
    },
    {
      "metadata": {
        "id": "SXKU3XITmNyM",
        "colab_type": "text"
      },
      "cell_type": "markdown",
      "source": [
        "#### Ekstra by Geir Inge"
      ]
    },
    {
      "metadata": {
        "id": "ukgMOjkfzIne",
        "colab_type": "code",
        "outputId": "af6f9f8a-b289-4581-a5bf-5ae15bd8340c",
        "colab": {
          "base_uri": "https://localhost:8080/",
          "height": 34
        }
      },
      "cell_type": "code",
      "source": [
        "#Explore tables:\n",
        "cancer.data.shape"
      ],
      "execution_count": 0,
      "outputs": [
        {
          "output_type": "execute_result",
          "data": {
            "text/plain": [
              "(569, 30)"
            ]
          },
          "metadata": {
            "tags": []
          },
          "execution_count": 41
        }
      ]
    },
    {
      "metadata": {
        "id": "9tvV9-EZmSSR",
        "colab_type": "code",
        "colab": {}
      },
      "cell_type": "code",
      "source": [
        "from sklearn.dummy import DummyClassifier\n",
        "\n",
        "pipe = Pipeline([('preprocessing', None), ('classifier', DummyClassifier())])"
      ],
      "execution_count": 0,
      "outputs": []
    },
    {
      "metadata": {
        "id": "kIXqt7k-nbDY",
        "colab_type": "code",
        "colab": {}
      },
      "cell_type": "code",
      "source": [
        "from sklearn.ensemble import RandomForestClassifier\n",
        "import xgboost as xgb\n",
        "\n",
        "param_grid = [\n",
        "    {'classifier': [SVC()], \n",
        "     'preprocessing': [StandardScaler(), None],\n",
        "     'classifier__gamma': [0.001, 0.01, 0.1, 1, 10, 100],\n",
        "     'classifier__C': [0.001, 0.01, 0.1, 1, 10, 100]},\n",
        "    {'classifier': [RandomForestClassifier(n_estimators=100)],\n",
        "     'preprocessing': [None], \n",
        "     'classifier__max_features': [1, 2, 3]},\n",
        "    #Added by GIS\n",
        "    {'classifier': [xgb.XGBClassifier(n_estimators=500, n_jobs=-1)], \n",
        "     'preprocessing': [StandardScaler(), None],\n",
        "     'classifier__max_depth': [1, 3, 5, 10],\n",
        "     'classifier__learning_rate': [0.001, 0.01, 0.1],\n",
        "     'classifier__colsample_bytree': [0.1, 0.5, 1]\n",
        "    }\n",
        "\n",
        "]"
      ],
      "execution_count": 0,
      "outputs": []
    },
    {
      "metadata": {
        "id": "-mlQU0nTnzn1",
        "colab_type": "code",
        "outputId": "4b72b53e-a280-4817-a221-10a14a0a8b3d",
        "colab": {
          "base_uri": "https://localhost:8080/",
          "height": 194
        }
      },
      "cell_type": "code",
      "source": [
        "X_train, X_test, y_train, y_test = train_test_split(\n",
        "    cancer.data, cancer.target, random_state=0)\n",
        "\n",
        "grid = GridSearchCV(pipe, param_grid, cv=5, return_train_score=False)\n",
        "grid.fit(X_train, y_train)\n",
        "\n",
        "print(\"Best params:\\n{}\\n\".format(grid.best_params_))\n",
        "print(\"Best cross-validation score: {:.10f}\".format(grid.best_score_))\n",
        "print(\"Test-set score: {:.10f}\".format(grid.score(X_test, y_test)))"
      ],
      "execution_count": 0,
      "outputs": [
        {
          "output_type": "stream",
          "text": [
            "Best params:\n",
            "{'classifier': SVC(C=10, cache_size=200, class_weight=None, coef0=0.0,\n",
            "  decision_function_shape='ovr', degree=3, gamma=0.01, kernel='rbf',\n",
            "  max_iter=-1, probability=False, random_state=None, shrinking=True,\n",
            "  tol=0.001, verbose=False), 'classifier__C': 10, 'classifier__gamma': 0.01, 'preprocessing': StandardScaler(copy=True, with_mean=True, with_std=True)}\n",
            "\n",
            "Best cross-validation score: 0.9859154930\n",
            "Test-set score: 0.9790209790\n"
          ],
          "name": "stdout"
        },
        {
          "output_type": "stream",
          "text": [
            "/usr/local/lib/python3.6/dist-packages/sklearn/model_selection/_search.py:841: DeprecationWarning: The default of the `iid` parameter will change from True to False in version 0.22 and will be removed in 0.24. This will change numeric results when test-set sizes are unequal.\n",
            "  DeprecationWarning)\n"
          ],
          "name": "stderr"
        }
      ]
    },
    {
      "metadata": {
        "id": "Hg7ElEiBn6sB",
        "colab_type": "code",
        "outputId": "02ccf23e-eccb-457b-f10a-988fcdb0e388",
        "colab": {
          "base_uri": "https://localhost:8080/",
          "height": 34
        }
      },
      "cell_type": "code",
      "source": [
        "cv_results = pd.DataFrame(grid.cv_results_)\n",
        "cv_results.shape"
      ],
      "execution_count": 0,
      "outputs": [
        {
          "output_type": "execute_result",
          "data": {
            "text/plain": [
              "(147, 21)"
            ]
          },
          "metadata": {
            "tags": []
          },
          "execution_count": 119
        }
      ]
    },
    {
      "metadata": {
        "id": "1GsxnupzospB",
        "colab_type": "code",
        "outputId": "016e5378-fef5-432b-8838-d72ca93107e6",
        "colab": {
          "base_uri": "https://localhost:8080/",
          "height": 226
        }
      },
      "cell_type": "code",
      "source": [
        "cv_results[0:5]"
      ],
      "execution_count": 0,
      "outputs": [
        {
          "output_type": "execute_result",
          "data": {
            "text/html": [
              "<div>\n",
              "<style scoped>\n",
              "    .dataframe tbody tr th:only-of-type {\n",
              "        vertical-align: middle;\n",
              "    }\n",
              "\n",
              "    .dataframe tbody tr th {\n",
              "        vertical-align: top;\n",
              "    }\n",
              "\n",
              "    .dataframe thead th {\n",
              "        text-align: right;\n",
              "    }\n",
              "</style>\n",
              "<table border=\"1\" class=\"dataframe\">\n",
              "  <thead>\n",
              "    <tr style=\"text-align: right;\">\n",
              "      <th></th>\n",
              "      <th>mean_fit_time</th>\n",
              "      <th>mean_score_time</th>\n",
              "      <th>mean_test_score</th>\n",
              "      <th>param_classifier</th>\n",
              "      <th>...</th>\n",
              "      <th>split4_test_score</th>\n",
              "      <th>std_fit_time</th>\n",
              "      <th>std_score_time</th>\n",
              "      <th>std_test_score</th>\n",
              "    </tr>\n",
              "  </thead>\n",
              "  <tbody>\n",
              "    <tr>\n",
              "      <th>0</th>\n",
              "      <td>8.42e-03</td>\n",
              "      <td>1.79e-03</td>\n",
              "      <td>0.63</td>\n",
              "      <td>SVC(C=10, cache_size=200, class_weight=None, c...</td>\n",
              "      <td>...</td>\n",
              "      <td>0.63</td>\n",
              "      <td>5.02e-04</td>\n",
              "      <td>4.76e-05</td>\n",
              "      <td>2.86e-03</td>\n",
              "    </tr>\n",
              "    <tr>\n",
              "      <th>1</th>\n",
              "      <td>7.51e-03</td>\n",
              "      <td>1.78e-03</td>\n",
              "      <td>0.63</td>\n",
              "      <td>SVC(C=10, cache_size=200, class_weight=None, c...</td>\n",
              "      <td>...</td>\n",
              "      <td>0.63</td>\n",
              "      <td>2.34e-04</td>\n",
              "      <td>5.75e-05</td>\n",
              "      <td>2.86e-03</td>\n",
              "    </tr>\n",
              "    <tr>\n",
              "      <th>2</th>\n",
              "      <td>8.36e-03</td>\n",
              "      <td>1.80e-03</td>\n",
              "      <td>0.63</td>\n",
              "      <td>SVC(C=10, cache_size=200, class_weight=None, c...</td>\n",
              "      <td>...</td>\n",
              "      <td>0.63</td>\n",
              "      <td>2.53e-04</td>\n",
              "      <td>4.70e-05</td>\n",
              "      <td>2.86e-03</td>\n",
              "    </tr>\n",
              "    <tr>\n",
              "      <th>3</th>\n",
              "      <td>6.90e-03</td>\n",
              "      <td>1.76e-03</td>\n",
              "      <td>0.63</td>\n",
              "      <td>SVC(C=10, cache_size=200, class_weight=None, c...</td>\n",
              "      <td>...</td>\n",
              "      <td>0.63</td>\n",
              "      <td>2.78e-04</td>\n",
              "      <td>2.03e-04</td>\n",
              "      <td>2.86e-03</td>\n",
              "    </tr>\n",
              "    <tr>\n",
              "      <th>4</th>\n",
              "      <td>8.99e-03</td>\n",
              "      <td>1.86e-03</td>\n",
              "      <td>0.63</td>\n",
              "      <td>SVC(C=10, cache_size=200, class_weight=None, c...</td>\n",
              "      <td>...</td>\n",
              "      <td>0.63</td>\n",
              "      <td>1.91e-04</td>\n",
              "      <td>7.84e-05</td>\n",
              "      <td>2.86e-03</td>\n",
              "    </tr>\n",
              "  </tbody>\n",
              "</table>\n",
              "<p>5 rows × 21 columns</p>\n",
              "</div>"
            ],
            "text/plain": [
              "   mean_fit_time  mean_score_time  mean_test_score  \\\n",
              "0       8.42e-03         1.79e-03             0.63   \n",
              "1       7.51e-03         1.78e-03             0.63   \n",
              "2       8.36e-03         1.80e-03             0.63   \n",
              "3       6.90e-03         1.76e-03             0.63   \n",
              "4       8.99e-03         1.86e-03             0.63   \n",
              "\n",
              "                                    param_classifier      ...        \\\n",
              "0  SVC(C=10, cache_size=200, class_weight=None, c...      ...         \n",
              "1  SVC(C=10, cache_size=200, class_weight=None, c...      ...         \n",
              "2  SVC(C=10, cache_size=200, class_weight=None, c...      ...         \n",
              "3  SVC(C=10, cache_size=200, class_weight=None, c...      ...         \n",
              "4  SVC(C=10, cache_size=200, class_weight=None, c...      ...         \n",
              "\n",
              "  split4_test_score std_fit_time std_score_time std_test_score  \n",
              "0              0.63     5.02e-04       4.76e-05       2.86e-03  \n",
              "1              0.63     2.34e-04       5.75e-05       2.86e-03  \n",
              "2              0.63     2.53e-04       4.70e-05       2.86e-03  \n",
              "3              0.63     2.78e-04       2.03e-04       2.86e-03  \n",
              "4              0.63     1.91e-04       7.84e-05       2.86e-03  \n",
              "\n",
              "[5 rows x 21 columns]"
            ]
          },
          "metadata": {
            "tags": []
          },
          "execution_count": 120
        }
      ]
    },
    {
      "metadata": {
        "id": "UfCKXd8roG6Q",
        "colab_type": "code",
        "outputId": "8fb3d536-4a11-40a6-aa94-73792f232029",
        "colab": {
          "base_uri": "https://localhost:8080/",
          "height": 390
        }
      },
      "cell_type": "code",
      "source": [
        "list(cv_results.columns.values)"
      ],
      "execution_count": 0,
      "outputs": [
        {
          "output_type": "execute_result",
          "data": {
            "text/plain": [
              "['mean_fit_time',\n",
              " 'mean_score_time',\n",
              " 'mean_test_score',\n",
              " 'param_classifier',\n",
              " 'param_classifier__C',\n",
              " 'param_classifier__colsample_bytree',\n",
              " 'param_classifier__gamma',\n",
              " 'param_classifier__learning_rate',\n",
              " 'param_classifier__max_depth',\n",
              " 'param_classifier__max_features',\n",
              " 'param_preprocessing',\n",
              " 'params',\n",
              " 'rank_test_score',\n",
              " 'split0_test_score',\n",
              " 'split1_test_score',\n",
              " 'split2_test_score',\n",
              " 'split3_test_score',\n",
              " 'split4_test_score',\n",
              " 'std_fit_time',\n",
              " 'std_score_time',\n",
              " 'std_test_score']"
            ]
          },
          "metadata": {
            "tags": []
          },
          "execution_count": 121
        }
      ]
    },
    {
      "metadata": {
        "id": "e2Qo_-FRTxYF",
        "colab_type": "code",
        "colab": {}
      },
      "cell_type": "code",
      "source": [
        "#report_cols = [i for i in list(cv_results.columns.values) if not(\"split\" in i or \"mean_fit_time\" in i or \"mean_score_time\" in i or \"std\" in i or \"params\" in i or \"rank_test_score\" in i)]\n",
        "\n",
        "#report_cols2 = [i for i in list(cv_results.columns.values) if i not in [\"mean_fit_time\", \"mean_score_time\", \"params\", \"rank_test_score\"] and not(\"split\" in i or \"std\" in i)]\n",
        "\n",
        "#print(report_cols)\n",
        "\n",
        "#report_cols2"
      ],
      "execution_count": 0,
      "outputs": []
    },
    {
      "metadata": {
        "id": "LTfQUMjVJZX2",
        "colab_type": "code",
        "outputId": "b382b79c-f512-41f8-b67c-d873c82671fa",
        "colab": {
          "base_uri": "https://localhost:8080/",
          "height": 407
        }
      },
      "cell_type": "code",
      "source": [
        "cv_results.dtypes"
      ],
      "execution_count": 0,
      "outputs": [
        {
          "output_type": "execute_result",
          "data": {
            "text/plain": [
              "mean_fit_time                         float64\n",
              "mean_score_time                       float64\n",
              "mean_test_score                       float64\n",
              "param_classifier                       object\n",
              "param_classifier__C                    object\n",
              "param_classifier__colsample_bytree     object\n",
              "param_classifier__gamma                object\n",
              "param_classifier__learning_rate        object\n",
              "param_classifier__max_depth            object\n",
              "param_classifier__max_features         object\n",
              "param_preprocessing                    object\n",
              "params                                 object\n",
              "rank_test_score                         int32\n",
              "split0_test_score                     float64\n",
              "split1_test_score                     float64\n",
              "split2_test_score                     float64\n",
              "split3_test_score                     float64\n",
              "split4_test_score                     float64\n",
              "std_fit_time                          float64\n",
              "std_score_time                        float64\n",
              "std_test_score                        float64\n",
              "dtype: object"
            ]
          },
          "metadata": {
            "tags": []
          },
          "execution_count": 123
        }
      ]
    },
    {
      "metadata": {
        "id": "goTBzYE2ol62",
        "colab_type": "code",
        "outputId": "98dc38bc-812d-4031-88e4-6b7b43ed349c",
        "colab": {
          "base_uri": "https://localhost:8080/",
          "height": 408
        }
      },
      "cell_type": "code",
      "source": [
        "display(cv_results.param_classifier__C.value_counts(dropna=False).to_frame())\n",
        "display(cv_results.param_classifier__max_features.value_counts(dropna=False).to_frame())"
      ],
      "execution_count": 0,
      "outputs": [
        {
          "output_type": "display_data",
          "data": {
            "text/html": [
              "<div>\n",
              "<style scoped>\n",
              "    .dataframe tbody tr th:only-of-type {\n",
              "        vertical-align: middle;\n",
              "    }\n",
              "\n",
              "    .dataframe tbody tr th {\n",
              "        vertical-align: top;\n",
              "    }\n",
              "\n",
              "    .dataframe thead th {\n",
              "        text-align: right;\n",
              "    }\n",
              "</style>\n",
              "<table border=\"1\" class=\"dataframe\">\n",
              "  <thead>\n",
              "    <tr style=\"text-align: right;\">\n",
              "      <th></th>\n",
              "      <th>param_classifier__C</th>\n",
              "    </tr>\n",
              "  </thead>\n",
              "  <tbody>\n",
              "    <tr>\n",
              "      <th>NaN</th>\n",
              "      <td>75</td>\n",
              "    </tr>\n",
              "    <tr>\n",
              "      <th>1.00e-03</th>\n",
              "      <td>12</td>\n",
              "    </tr>\n",
              "    <tr>\n",
              "      <th>1.00e-02</th>\n",
              "      <td>12</td>\n",
              "    </tr>\n",
              "    <tr>\n",
              "      <th>1.00e+01</th>\n",
              "      <td>12</td>\n",
              "    </tr>\n",
              "    <tr>\n",
              "      <th>1.00e+02</th>\n",
              "      <td>12</td>\n",
              "    </tr>\n",
              "    <tr>\n",
              "      <th>1.00e+00</th>\n",
              "      <td>12</td>\n",
              "    </tr>\n",
              "    <tr>\n",
              "      <th>1.00e-01</th>\n",
              "      <td>12</td>\n",
              "    </tr>\n",
              "  </tbody>\n",
              "</table>\n",
              "</div>"
            ],
            "text/plain": [
              "           param_classifier__C\n",
              "NaN                         75\n",
              " 1.00e-03                   12\n",
              " 1.00e-02                   12\n",
              " 1.00e+01                   12\n",
              " 1.00e+02                   12\n",
              " 1.00e+00                   12\n",
              " 1.00e-01                   12"
            ]
          },
          "metadata": {
            "tags": []
          }
        },
        {
          "output_type": "display_data",
          "data": {
            "text/html": [
              "<div>\n",
              "<style scoped>\n",
              "    .dataframe tbody tr th:only-of-type {\n",
              "        vertical-align: middle;\n",
              "    }\n",
              "\n",
              "    .dataframe tbody tr th {\n",
              "        vertical-align: top;\n",
              "    }\n",
              "\n",
              "    .dataframe thead th {\n",
              "        text-align: right;\n",
              "    }\n",
              "</style>\n",
              "<table border=\"1\" class=\"dataframe\">\n",
              "  <thead>\n",
              "    <tr style=\"text-align: right;\">\n",
              "      <th></th>\n",
              "      <th>param_classifier__max_features</th>\n",
              "    </tr>\n",
              "  </thead>\n",
              "  <tbody>\n",
              "    <tr>\n",
              "      <th>NaN</th>\n",
              "      <td>144</td>\n",
              "    </tr>\n",
              "    <tr>\n",
              "      <th>3.0</th>\n",
              "      <td>1</td>\n",
              "    </tr>\n",
              "    <tr>\n",
              "      <th>2.0</th>\n",
              "      <td>1</td>\n",
              "    </tr>\n",
              "    <tr>\n",
              "      <th>1.0</th>\n",
              "      <td>1</td>\n",
              "    </tr>\n",
              "  </tbody>\n",
              "</table>\n",
              "</div>"
            ],
            "text/plain": [
              "      param_classifier__max_features\n",
              "NaN                              144\n",
              " 3.0                               1\n",
              " 2.0                               1\n",
              " 1.0                               1"
            ]
          },
          "metadata": {
            "tags": []
          }
        }
      ]
    },
    {
      "metadata": {
        "id": "7S0qEiG_pd1k",
        "colab_type": "code",
        "outputId": "dd8575ed-50a1-460b-e870-2958ed7247ca",
        "colab": {
          "base_uri": "https://localhost:8080/",
          "height": 34
        }
      },
      "cell_type": "code",
      "source": [
        "np.max(cv_results.mean_test_score)"
      ],
      "execution_count": 0,
      "outputs": [
        {
          "output_type": "execute_result",
          "data": {
            "text/plain": [
              "0.9859154929577465"
            ]
          },
          "metadata": {
            "tags": []
          },
          "execution_count": 125
        }
      ]
    },
    {
      "metadata": {
        "id": "oYsnAW2b4X5X",
        "colab_type": "code",
        "outputId": "9b2abaff-5d39-4f45-a32b-17ad90164803",
        "colab": {
          "base_uri": "https://localhost:8080/",
          "height": 676
        }
      },
      "cell_type": "code",
      "source": [
        "cv_results = pd.DataFrame(grid.cv_results_)\n",
        "\n",
        "report_cols = [i for i in list(cv_results.columns.values) if i not in [\"mean_fit_time\", \"mean_score_time\", \"params\", \"rank_test_score\"] and not(\"split\" in i or \"std\" in i)]\n",
        "\n",
        "\n",
        "cv_results[\"classifier\"], _ = cv_results[\"param_classifier\"].astype(str).str.split('(', 1).str\n",
        "cv_results[\"scaler\"], _ = cv_results[\"param_preprocessing\"].astype(str).str.split('(', 1).str\n",
        "\n",
        "report_cols = [i for i in report_cols if i not in[\"param_classifier\", \"param_preprocessing\" ]]\n",
        "\n",
        "cols = list([\"classifier\", \"scaler\"])\n",
        "cols.extend(report_cols[1:])\n",
        "cols.extend([report_cols[0]])\n",
        "\n",
        "cv_results.loc[:, cols].sort_values(by=[\"mean_test_score\"], ascending=[False])[0:20]"
      ],
      "execution_count": 0,
      "outputs": [
        {
          "output_type": "execute_result",
          "data": {
            "text/html": [
              "<div>\n",
              "<style scoped>\n",
              "    .dataframe tbody tr th:only-of-type {\n",
              "        vertical-align: middle;\n",
              "    }\n",
              "\n",
              "    .dataframe tbody tr th {\n",
              "        vertical-align: top;\n",
              "    }\n",
              "\n",
              "    .dataframe thead th {\n",
              "        text-align: right;\n",
              "    }\n",
              "</style>\n",
              "<table border=\"1\" class=\"dataframe\">\n",
              "  <thead>\n",
              "    <tr style=\"text-align: right;\">\n",
              "      <th></th>\n",
              "      <th>classifier</th>\n",
              "      <th>scaler</th>\n",
              "      <th>param_classifier__C</th>\n",
              "      <th>param_classifier__colsample_bytree</th>\n",
              "      <th>...</th>\n",
              "      <th>param_classifier__learning_rate</th>\n",
              "      <th>param_classifier__max_depth</th>\n",
              "      <th>param_classifier__max_features</th>\n",
              "      <th>mean_test_score</th>\n",
              "    </tr>\n",
              "  </thead>\n",
              "  <tbody>\n",
              "    <tr>\n",
              "      <th>50</th>\n",
              "      <td>SVC</td>\n",
              "      <td>StandardScaler</td>\n",
              "      <td>10</td>\n",
              "      <td>NaN</td>\n",
              "      <td>...</td>\n",
              "      <td>NaN</td>\n",
              "      <td>NaN</td>\n",
              "      <td>NaN</td>\n",
              "      <td>0.99</td>\n",
              "    </tr>\n",
              "    <tr>\n",
              "      <th>60</th>\n",
              "      <td>SVC</td>\n",
              "      <td>StandardScaler</td>\n",
              "      <td>100</td>\n",
              "      <td>NaN</td>\n",
              "      <td>...</td>\n",
              "      <td>NaN</td>\n",
              "      <td>NaN</td>\n",
              "      <td>NaN</td>\n",
              "      <td>0.98</td>\n",
              "    </tr>\n",
              "    <tr>\n",
              "      <th>115</th>\n",
              "      <td>XGBClassifier</td>\n",
              "      <td>StandardScaler</td>\n",
              "      <td>NaN</td>\n",
              "      <td>0.5</td>\n",
              "      <td>...</td>\n",
              "      <td>0.1</td>\n",
              "      <td>1</td>\n",
              "      <td>NaN</td>\n",
              "      <td>0.98</td>\n",
              "    </tr>\n",
              "    <tr>\n",
              "      <th>62</th>\n",
              "      <td>SVC</td>\n",
              "      <td>StandardScaler</td>\n",
              "      <td>100</td>\n",
              "      <td>NaN</td>\n",
              "      <td>...</td>\n",
              "      <td>NaN</td>\n",
              "      <td>NaN</td>\n",
              "      <td>NaN</td>\n",
              "      <td>0.98</td>\n",
              "    </tr>\n",
              "    <tr>\n",
              "      <th>140</th>\n",
              "      <td>XGBClassifier</td>\n",
              "      <td>None</td>\n",
              "      <td>NaN</td>\n",
              "      <td>1</td>\n",
              "      <td>...</td>\n",
              "      <td>0.1</td>\n",
              "      <td>1</td>\n",
              "      <td>NaN</td>\n",
              "      <td>0.98</td>\n",
              "    </tr>\n",
              "    <tr>\n",
              "      <th>139</th>\n",
              "      <td>XGBClassifier</td>\n",
              "      <td>StandardScaler</td>\n",
              "      <td>NaN</td>\n",
              "      <td>1</td>\n",
              "      <td>...</td>\n",
              "      <td>0.1</td>\n",
              "      <td>1</td>\n",
              "      <td>NaN</td>\n",
              "      <td>0.98</td>\n",
              "    </tr>\n",
              "    <tr>\n",
              "      <th>116</th>\n",
              "      <td>XGBClassifier</td>\n",
              "      <td>None</td>\n",
              "      <td>NaN</td>\n",
              "      <td>0.5</td>\n",
              "      <td>...</td>\n",
              "      <td>0.1</td>\n",
              "      <td>1</td>\n",
              "      <td>NaN</td>\n",
              "      <td>0.98</td>\n",
              "    </tr>\n",
              "    <tr>\n",
              "      <th>118</th>\n",
              "      <td>XGBClassifier</td>\n",
              "      <td>None</td>\n",
              "      <td>NaN</td>\n",
              "      <td>0.5</td>\n",
              "      <td>...</td>\n",
              "      <td>0.1</td>\n",
              "      <td>3</td>\n",
              "      <td>NaN</td>\n",
              "      <td>0.97</td>\n",
              "    </tr>\n",
              "    <tr>\n",
              "      <th>117</th>\n",
              "      <td>XGBClassifier</td>\n",
              "      <td>StandardScaler</td>\n",
              "      <td>NaN</td>\n",
              "      <td>0.5</td>\n",
              "      <td>...</td>\n",
              "      <td>0.1</td>\n",
              "      <td>3</td>\n",
              "      <td>NaN</td>\n",
              "      <td>0.97</td>\n",
              "    </tr>\n",
              "    <tr>\n",
              "      <th>91</th>\n",
              "      <td>XGBClassifier</td>\n",
              "      <td>StandardScaler</td>\n",
              "      <td>NaN</td>\n",
              "      <td>0.1</td>\n",
              "      <td>...</td>\n",
              "      <td>0.1</td>\n",
              "      <td>1</td>\n",
              "      <td>NaN</td>\n",
              "      <td>0.97</td>\n",
              "    </tr>\n",
              "    <tr>\n",
              "      <th>92</th>\n",
              "      <td>XGBClassifier</td>\n",
              "      <td>None</td>\n",
              "      <td>NaN</td>\n",
              "      <td>0.1</td>\n",
              "      <td>...</td>\n",
              "      <td>0.1</td>\n",
              "      <td>1</td>\n",
              "      <td>NaN</td>\n",
              "      <td>0.97</td>\n",
              "    </tr>\n",
              "    <tr>\n",
              "      <th>38</th>\n",
              "      <td>SVC</td>\n",
              "      <td>StandardScaler</td>\n",
              "      <td>1</td>\n",
              "      <td>NaN</td>\n",
              "      <td>...</td>\n",
              "      <td>NaN</td>\n",
              "      <td>NaN</td>\n",
              "      <td>NaN</td>\n",
              "      <td>0.97</td>\n",
              "    </tr>\n",
              "    <tr>\n",
              "      <th>48</th>\n",
              "      <td>SVC</td>\n",
              "      <td>StandardScaler</td>\n",
              "      <td>10</td>\n",
              "      <td>NaN</td>\n",
              "      <td>...</td>\n",
              "      <td>NaN</td>\n",
              "      <td>NaN</td>\n",
              "      <td>NaN</td>\n",
              "      <td>0.97</td>\n",
              "    </tr>\n",
              "    <tr>\n",
              "      <th>119</th>\n",
              "      <td>XGBClassifier</td>\n",
              "      <td>StandardScaler</td>\n",
              "      <td>NaN</td>\n",
              "      <td>0.5</td>\n",
              "      <td>...</td>\n",
              "      <td>0.1</td>\n",
              "      <td>5</td>\n",
              "      <td>NaN</td>\n",
              "      <td>0.97</td>\n",
              "    </tr>\n",
              "    <tr>\n",
              "      <th>121</th>\n",
              "      <td>XGBClassifier</td>\n",
              "      <td>StandardScaler</td>\n",
              "      <td>NaN</td>\n",
              "      <td>0.5</td>\n",
              "      <td>...</td>\n",
              "      <td>0.1</td>\n",
              "      <td>10</td>\n",
              "      <td>NaN</td>\n",
              "      <td>0.97</td>\n",
              "    </tr>\n",
              "    <tr>\n",
              "      <th>122</th>\n",
              "      <td>XGBClassifier</td>\n",
              "      <td>None</td>\n",
              "      <td>NaN</td>\n",
              "      <td>0.5</td>\n",
              "      <td>...</td>\n",
              "      <td>0.1</td>\n",
              "      <td>10</td>\n",
              "      <td>NaN</td>\n",
              "      <td>0.97</td>\n",
              "    </tr>\n",
              "    <tr>\n",
              "      <th>120</th>\n",
              "      <td>XGBClassifier</td>\n",
              "      <td>None</td>\n",
              "      <td>NaN</td>\n",
              "      <td>0.5</td>\n",
              "      <td>...</td>\n",
              "      <td>0.1</td>\n",
              "      <td>5</td>\n",
              "      <td>NaN</td>\n",
              "      <td>0.97</td>\n",
              "    </tr>\n",
              "    <tr>\n",
              "      <th>93</th>\n",
              "      <td>XGBClassifier</td>\n",
              "      <td>StandardScaler</td>\n",
              "      <td>NaN</td>\n",
              "      <td>0.1</td>\n",
              "      <td>...</td>\n",
              "      <td>0.1</td>\n",
              "      <td>3</td>\n",
              "      <td>NaN</td>\n",
              "      <td>0.96</td>\n",
              "    </tr>\n",
              "    <tr>\n",
              "      <th>145</th>\n",
              "      <td>XGBClassifier</td>\n",
              "      <td>StandardScaler</td>\n",
              "      <td>NaN</td>\n",
              "      <td>1</td>\n",
              "      <td>...</td>\n",
              "      <td>0.1</td>\n",
              "      <td>10</td>\n",
              "      <td>NaN</td>\n",
              "      <td>0.96</td>\n",
              "    </tr>\n",
              "    <tr>\n",
              "      <th>144</th>\n",
              "      <td>XGBClassifier</td>\n",
              "      <td>None</td>\n",
              "      <td>NaN</td>\n",
              "      <td>1</td>\n",
              "      <td>...</td>\n",
              "      <td>0.1</td>\n",
              "      <td>5</td>\n",
              "      <td>NaN</td>\n",
              "      <td>0.96</td>\n",
              "    </tr>\n",
              "  </tbody>\n",
              "</table>\n",
              "<p>20 rows × 9 columns</p>\n",
              "</div>"
            ],
            "text/plain": [
              "        classifier          scaler param_classifier__C  \\\n",
              "50             SVC  StandardScaler                  10   \n",
              "60             SVC  StandardScaler                 100   \n",
              "115  XGBClassifier  StandardScaler                 NaN   \n",
              "62             SVC  StandardScaler                 100   \n",
              "140  XGBClassifier            None                 NaN   \n",
              "139  XGBClassifier  StandardScaler                 NaN   \n",
              "116  XGBClassifier            None                 NaN   \n",
              "118  XGBClassifier            None                 NaN   \n",
              "117  XGBClassifier  StandardScaler                 NaN   \n",
              "91   XGBClassifier  StandardScaler                 NaN   \n",
              "92   XGBClassifier            None                 NaN   \n",
              "38             SVC  StandardScaler                   1   \n",
              "48             SVC  StandardScaler                  10   \n",
              "119  XGBClassifier  StandardScaler                 NaN   \n",
              "121  XGBClassifier  StandardScaler                 NaN   \n",
              "122  XGBClassifier            None                 NaN   \n",
              "120  XGBClassifier            None                 NaN   \n",
              "93   XGBClassifier  StandardScaler                 NaN   \n",
              "145  XGBClassifier  StandardScaler                 NaN   \n",
              "144  XGBClassifier            None                 NaN   \n",
              "\n",
              "    param_classifier__colsample_bytree       ...        \\\n",
              "50                                 NaN       ...         \n",
              "60                                 NaN       ...         \n",
              "115                                0.5       ...         \n",
              "62                                 NaN       ...         \n",
              "140                                  1       ...         \n",
              "139                                  1       ...         \n",
              "116                                0.5       ...         \n",
              "118                                0.5       ...         \n",
              "117                                0.5       ...         \n",
              "91                                 0.1       ...         \n",
              "92                                 0.1       ...         \n",
              "38                                 NaN       ...         \n",
              "48                                 NaN       ...         \n",
              "119                                0.5       ...         \n",
              "121                                0.5       ...         \n",
              "122                                0.5       ...         \n",
              "120                                0.5       ...         \n",
              "93                                 0.1       ...         \n",
              "145                                  1       ...         \n",
              "144                                  1       ...         \n",
              "\n",
              "    param_classifier__learning_rate param_classifier__max_depth  \\\n",
              "50                              NaN                         NaN   \n",
              "60                              NaN                         NaN   \n",
              "115                             0.1                           1   \n",
              "62                              NaN                         NaN   \n",
              "140                             0.1                           1   \n",
              "139                             0.1                           1   \n",
              "116                             0.1                           1   \n",
              "118                             0.1                           3   \n",
              "117                             0.1                           3   \n",
              "91                              0.1                           1   \n",
              "92                              0.1                           1   \n",
              "38                              NaN                         NaN   \n",
              "48                              NaN                         NaN   \n",
              "119                             0.1                           5   \n",
              "121                             0.1                          10   \n",
              "122                             0.1                          10   \n",
              "120                             0.1                           5   \n",
              "93                              0.1                           3   \n",
              "145                             0.1                          10   \n",
              "144                             0.1                           5   \n",
              "\n",
              "    param_classifier__max_features mean_test_score  \n",
              "50                             NaN            0.99  \n",
              "60                             NaN            0.98  \n",
              "115                            NaN            0.98  \n",
              "62                             NaN            0.98  \n",
              "140                            NaN            0.98  \n",
              "139                            NaN            0.98  \n",
              "116                            NaN            0.98  \n",
              "118                            NaN            0.97  \n",
              "117                            NaN            0.97  \n",
              "91                             NaN            0.97  \n",
              "92                             NaN            0.97  \n",
              "38                             NaN            0.97  \n",
              "48                             NaN            0.97  \n",
              "119                            NaN            0.97  \n",
              "121                            NaN            0.97  \n",
              "122                            NaN            0.97  \n",
              "120                            NaN            0.97  \n",
              "93                             NaN            0.96  \n",
              "145                            NaN            0.96  \n",
              "144                            NaN            0.96  \n",
              "\n",
              "[20 rows x 9 columns]"
            ]
          },
          "metadata": {
            "tags": []
          },
          "execution_count": 148
        }
      ]
    },
    {
      "metadata": {
        "id": "u_okG7UcjqXy",
        "colab_type": "code",
        "outputId": "052e2ab3-a145-4d74-f32a-b80a9190eac0",
        "colab": {
          "base_uri": "https://localhost:8080/",
          "height": 390
        }
      },
      "cell_type": "code",
      "source": [
        "\n",
        "cv_results.loc[:, \"mean_test_score\"][0:20]"
      ],
      "execution_count": 0,
      "outputs": [
        {
          "output_type": "execute_result",
          "data": {
            "text/plain": [
              "0     0.63\n",
              "1     0.63\n",
              "2     0.63\n",
              "3     0.63\n",
              "4     0.63\n",
              "5     0.63\n",
              "6     0.63\n",
              "7     0.63\n",
              "8     0.63\n",
              "9     0.63\n",
              "10    0.63\n",
              "11    0.63\n",
              "12    0.63\n",
              "13    0.63\n",
              "14    0.63\n",
              "15    0.63\n",
              "16    0.63\n",
              "17    0.63\n",
              "18    0.63\n",
              "19    0.63\n",
              "Name: mean_test_score, dtype: float64"
            ]
          },
          "metadata": {
            "tags": []
          },
          "execution_count": 149
        }
      ]
    },
    {
      "metadata": {
        "id": "Z0cd_doxyu-R",
        "colab_type": "code",
        "outputId": "fc8f1fce-ccd2-4ddc-ba9f-6ea3b3d61e16",
        "colab": {
          "base_uri": "https://localhost:8080/",
          "height": 676
        }
      },
      "cell_type": "code",
      "source": [
        "cv_results[0:20]"
      ],
      "execution_count": 0,
      "outputs": [
        {
          "output_type": "execute_result",
          "data": {
            "text/html": [
              "<div>\n",
              "<style scoped>\n",
              "    .dataframe tbody tr th:only-of-type {\n",
              "        vertical-align: middle;\n",
              "    }\n",
              "\n",
              "    .dataframe tbody tr th {\n",
              "        vertical-align: top;\n",
              "    }\n",
              "\n",
              "    .dataframe thead th {\n",
              "        text-align: right;\n",
              "    }\n",
              "</style>\n",
              "<table border=\"1\" class=\"dataframe\">\n",
              "  <thead>\n",
              "    <tr style=\"text-align: right;\">\n",
              "      <th></th>\n",
              "      <th>mean_fit_time</th>\n",
              "      <th>mean_score_time</th>\n",
              "      <th>mean_test_score</th>\n",
              "      <th>param_classifier</th>\n",
              "      <th>...</th>\n",
              "      <th>std_score_time</th>\n",
              "      <th>std_test_score</th>\n",
              "      <th>classifier</th>\n",
              "      <th>scaler</th>\n",
              "    </tr>\n",
              "  </thead>\n",
              "  <tbody>\n",
              "    <tr>\n",
              "      <th>0</th>\n",
              "      <td>8.42e-03</td>\n",
              "      <td>1.79e-03</td>\n",
              "      <td>0.63</td>\n",
              "      <td>SVC(C=10, cache_size=200, class_weight=None, c...</td>\n",
              "      <td>...</td>\n",
              "      <td>4.76e-05</td>\n",
              "      <td>2.86e-03</td>\n",
              "      <td>SVC</td>\n",
              "      <td>StandardScaler</td>\n",
              "    </tr>\n",
              "    <tr>\n",
              "      <th>1</th>\n",
              "      <td>7.51e-03</td>\n",
              "      <td>1.78e-03</td>\n",
              "      <td>0.63</td>\n",
              "      <td>SVC(C=10, cache_size=200, class_weight=None, c...</td>\n",
              "      <td>...</td>\n",
              "      <td>5.75e-05</td>\n",
              "      <td>2.86e-03</td>\n",
              "      <td>SVC</td>\n",
              "      <td>None</td>\n",
              "    </tr>\n",
              "    <tr>\n",
              "      <th>2</th>\n",
              "      <td>8.36e-03</td>\n",
              "      <td>1.80e-03</td>\n",
              "      <td>0.63</td>\n",
              "      <td>SVC(C=10, cache_size=200, class_weight=None, c...</td>\n",
              "      <td>...</td>\n",
              "      <td>4.70e-05</td>\n",
              "      <td>2.86e-03</td>\n",
              "      <td>SVC</td>\n",
              "      <td>StandardScaler</td>\n",
              "    </tr>\n",
              "    <tr>\n",
              "      <th>3</th>\n",
              "      <td>6.90e-03</td>\n",
              "      <td>1.76e-03</td>\n",
              "      <td>0.63</td>\n",
              "      <td>SVC(C=10, cache_size=200, class_weight=None, c...</td>\n",
              "      <td>...</td>\n",
              "      <td>2.03e-04</td>\n",
              "      <td>2.86e-03</td>\n",
              "      <td>SVC</td>\n",
              "      <td>None</td>\n",
              "    </tr>\n",
              "    <tr>\n",
              "      <th>4</th>\n",
              "      <td>8.99e-03</td>\n",
              "      <td>1.86e-03</td>\n",
              "      <td>0.63</td>\n",
              "      <td>SVC(C=10, cache_size=200, class_weight=None, c...</td>\n",
              "      <td>...</td>\n",
              "      <td>7.84e-05</td>\n",
              "      <td>2.86e-03</td>\n",
              "      <td>SVC</td>\n",
              "      <td>StandardScaler</td>\n",
              "    </tr>\n",
              "    <tr>\n",
              "      <th>5</th>\n",
              "      <td>6.12e-03</td>\n",
              "      <td>1.45e-03</td>\n",
              "      <td>0.63</td>\n",
              "      <td>SVC(C=10, cache_size=200, class_weight=None, c...</td>\n",
              "      <td>...</td>\n",
              "      <td>3.17e-05</td>\n",
              "      <td>2.86e-03</td>\n",
              "      <td>SVC</td>\n",
              "      <td>None</td>\n",
              "    </tr>\n",
              "    <tr>\n",
              "      <th>6</th>\n",
              "      <td>8.72e-03</td>\n",
              "      <td>1.84e-03</td>\n",
              "      <td>0.63</td>\n",
              "      <td>SVC(C=10, cache_size=200, class_weight=None, c...</td>\n",
              "      <td>...</td>\n",
              "      <td>6.31e-05</td>\n",
              "      <td>2.86e-03</td>\n",
              "      <td>SVC</td>\n",
              "      <td>StandardScaler</td>\n",
              "    </tr>\n",
              "    <tr>\n",
              "      <th>7</th>\n",
              "      <td>7.31e-03</td>\n",
              "      <td>1.77e-03</td>\n",
              "      <td>0.63</td>\n",
              "      <td>SVC(C=10, cache_size=200, class_weight=None, c...</td>\n",
              "      <td>...</td>\n",
              "      <td>1.26e-04</td>\n",
              "      <td>2.86e-03</td>\n",
              "      <td>SVC</td>\n",
              "      <td>None</td>\n",
              "    </tr>\n",
              "    <tr>\n",
              "      <th>8</th>\n",
              "      <td>9.88e-03</td>\n",
              "      <td>2.51e-03</td>\n",
              "      <td>0.63</td>\n",
              "      <td>SVC(C=10, cache_size=200, class_weight=None, c...</td>\n",
              "      <td>...</td>\n",
              "      <td>3.78e-04</td>\n",
              "      <td>2.86e-03</td>\n",
              "      <td>SVC</td>\n",
              "      <td>StandardScaler</td>\n",
              "    </tr>\n",
              "    <tr>\n",
              "      <th>9</th>\n",
              "      <td>7.68e-03</td>\n",
              "      <td>1.74e-03</td>\n",
              "      <td>0.63</td>\n",
              "      <td>SVC(C=10, cache_size=200, class_weight=None, c...</td>\n",
              "      <td>...</td>\n",
              "      <td>3.14e-05</td>\n",
              "      <td>2.86e-03</td>\n",
              "      <td>SVC</td>\n",
              "      <td>None</td>\n",
              "    </tr>\n",
              "    <tr>\n",
              "      <th>10</th>\n",
              "      <td>8.27e-03</td>\n",
              "      <td>1.84e-03</td>\n",
              "      <td>0.63</td>\n",
              "      <td>SVC(C=10, cache_size=200, class_weight=None, c...</td>\n",
              "      <td>...</td>\n",
              "      <td>2.73e-05</td>\n",
              "      <td>2.86e-03</td>\n",
              "      <td>SVC</td>\n",
              "      <td>StandardScaler</td>\n",
              "    </tr>\n",
              "    <tr>\n",
              "      <th>11</th>\n",
              "      <td>7.94e-03</td>\n",
              "      <td>1.72e-03</td>\n",
              "      <td>0.63</td>\n",
              "      <td>SVC(C=10, cache_size=200, class_weight=None, c...</td>\n",
              "      <td>...</td>\n",
              "      <td>1.50e-05</td>\n",
              "      <td>2.86e-03</td>\n",
              "      <td>SVC</td>\n",
              "      <td>None</td>\n",
              "    </tr>\n",
              "    <tr>\n",
              "      <th>12</th>\n",
              "      <td>8.27e-03</td>\n",
              "      <td>1.81e-03</td>\n",
              "      <td>0.63</td>\n",
              "      <td>SVC(C=10, cache_size=200, class_weight=None, c...</td>\n",
              "      <td>...</td>\n",
              "      <td>4.90e-05</td>\n",
              "      <td>2.86e-03</td>\n",
              "      <td>SVC</td>\n",
              "      <td>StandardScaler</td>\n",
              "    </tr>\n",
              "    <tr>\n",
              "      <th>13</th>\n",
              "      <td>8.38e-03</td>\n",
              "      <td>1.97e-03</td>\n",
              "      <td>0.63</td>\n",
              "      <td>SVC(C=10, cache_size=200, class_weight=None, c...</td>\n",
              "      <td>...</td>\n",
              "      <td>2.76e-04</td>\n",
              "      <td>2.86e-03</td>\n",
              "      <td>SVC</td>\n",
              "      <td>None</td>\n",
              "    </tr>\n",
              "    <tr>\n",
              "      <th>14</th>\n",
              "      <td>8.54e-03</td>\n",
              "      <td>1.78e-03</td>\n",
              "      <td>0.63</td>\n",
              "      <td>SVC(C=10, cache_size=200, class_weight=None, c...</td>\n",
              "      <td>...</td>\n",
              "      <td>3.98e-05</td>\n",
              "      <td>2.86e-03</td>\n",
              "      <td>SVC</td>\n",
              "      <td>StandardScaler</td>\n",
              "    </tr>\n",
              "    <tr>\n",
              "      <th>15</th>\n",
              "      <td>9.10e-03</td>\n",
              "      <td>2.15e-03</td>\n",
              "      <td>0.63</td>\n",
              "      <td>SVC(C=10, cache_size=200, class_weight=None, c...</td>\n",
              "      <td>...</td>\n",
              "      <td>1.46e-04</td>\n",
              "      <td>2.86e-03</td>\n",
              "      <td>SVC</td>\n",
              "      <td>None</td>\n",
              "    </tr>\n",
              "    <tr>\n",
              "      <th>16</th>\n",
              "      <td>8.73e-03</td>\n",
              "      <td>1.80e-03</td>\n",
              "      <td>0.63</td>\n",
              "      <td>SVC(C=10, cache_size=200, class_weight=None, c...</td>\n",
              "      <td>...</td>\n",
              "      <td>6.76e-05</td>\n",
              "      <td>2.86e-03</td>\n",
              "      <td>SVC</td>\n",
              "      <td>StandardScaler</td>\n",
              "    </tr>\n",
              "    <tr>\n",
              "      <th>17</th>\n",
              "      <td>8.94e-03</td>\n",
              "      <td>1.90e-03</td>\n",
              "      <td>0.63</td>\n",
              "      <td>SVC(C=10, cache_size=200, class_weight=None, c...</td>\n",
              "      <td>...</td>\n",
              "      <td>6.93e-05</td>\n",
              "      <td>2.86e-03</td>\n",
              "      <td>SVC</td>\n",
              "      <td>None</td>\n",
              "    </tr>\n",
              "    <tr>\n",
              "      <th>18</th>\n",
              "      <td>1.19e-02</td>\n",
              "      <td>2.44e-03</td>\n",
              "      <td>0.63</td>\n",
              "      <td>SVC(C=10, cache_size=200, class_weight=None, c...</td>\n",
              "      <td>...</td>\n",
              "      <td>2.57e-04</td>\n",
              "      <td>2.86e-03</td>\n",
              "      <td>SVC</td>\n",
              "      <td>StandardScaler</td>\n",
              "    </tr>\n",
              "    <tr>\n",
              "      <th>19</th>\n",
              "      <td>8.41e-03</td>\n",
              "      <td>1.76e-03</td>\n",
              "      <td>0.63</td>\n",
              "      <td>SVC(C=10, cache_size=200, class_weight=None, c...</td>\n",
              "      <td>...</td>\n",
              "      <td>2.89e-05</td>\n",
              "      <td>2.86e-03</td>\n",
              "      <td>SVC</td>\n",
              "      <td>None</td>\n",
              "    </tr>\n",
              "  </tbody>\n",
              "</table>\n",
              "<p>20 rows × 23 columns</p>\n",
              "</div>"
            ],
            "text/plain": [
              "    mean_fit_time  mean_score_time  mean_test_score  \\\n",
              "0        8.42e-03         1.79e-03             0.63   \n",
              "1        7.51e-03         1.78e-03             0.63   \n",
              "2        8.36e-03         1.80e-03             0.63   \n",
              "3        6.90e-03         1.76e-03             0.63   \n",
              "4        8.99e-03         1.86e-03             0.63   \n",
              "5        6.12e-03         1.45e-03             0.63   \n",
              "6        8.72e-03         1.84e-03             0.63   \n",
              "7        7.31e-03         1.77e-03             0.63   \n",
              "8        9.88e-03         2.51e-03             0.63   \n",
              "9        7.68e-03         1.74e-03             0.63   \n",
              "10       8.27e-03         1.84e-03             0.63   \n",
              "11       7.94e-03         1.72e-03             0.63   \n",
              "12       8.27e-03         1.81e-03             0.63   \n",
              "13       8.38e-03         1.97e-03             0.63   \n",
              "14       8.54e-03         1.78e-03             0.63   \n",
              "15       9.10e-03         2.15e-03             0.63   \n",
              "16       8.73e-03         1.80e-03             0.63   \n",
              "17       8.94e-03         1.90e-03             0.63   \n",
              "18       1.19e-02         2.44e-03             0.63   \n",
              "19       8.41e-03         1.76e-03             0.63   \n",
              "\n",
              "                                     param_classifier       ...        \\\n",
              "0   SVC(C=10, cache_size=200, class_weight=None, c...       ...         \n",
              "1   SVC(C=10, cache_size=200, class_weight=None, c...       ...         \n",
              "2   SVC(C=10, cache_size=200, class_weight=None, c...       ...         \n",
              "3   SVC(C=10, cache_size=200, class_weight=None, c...       ...         \n",
              "4   SVC(C=10, cache_size=200, class_weight=None, c...       ...         \n",
              "5   SVC(C=10, cache_size=200, class_weight=None, c...       ...         \n",
              "6   SVC(C=10, cache_size=200, class_weight=None, c...       ...         \n",
              "7   SVC(C=10, cache_size=200, class_weight=None, c...       ...         \n",
              "8   SVC(C=10, cache_size=200, class_weight=None, c...       ...         \n",
              "9   SVC(C=10, cache_size=200, class_weight=None, c...       ...         \n",
              "10  SVC(C=10, cache_size=200, class_weight=None, c...       ...         \n",
              "11  SVC(C=10, cache_size=200, class_weight=None, c...       ...         \n",
              "12  SVC(C=10, cache_size=200, class_weight=None, c...       ...         \n",
              "13  SVC(C=10, cache_size=200, class_weight=None, c...       ...         \n",
              "14  SVC(C=10, cache_size=200, class_weight=None, c...       ...         \n",
              "15  SVC(C=10, cache_size=200, class_weight=None, c...       ...         \n",
              "16  SVC(C=10, cache_size=200, class_weight=None, c...       ...         \n",
              "17  SVC(C=10, cache_size=200, class_weight=None, c...       ...         \n",
              "18  SVC(C=10, cache_size=200, class_weight=None, c...       ...         \n",
              "19  SVC(C=10, cache_size=200, class_weight=None, c...       ...         \n",
              "\n",
              "   std_score_time std_test_score classifier          scaler  \n",
              "0        4.76e-05       2.86e-03        SVC  StandardScaler  \n",
              "1        5.75e-05       2.86e-03        SVC            None  \n",
              "2        4.70e-05       2.86e-03        SVC  StandardScaler  \n",
              "3        2.03e-04       2.86e-03        SVC            None  \n",
              "4        7.84e-05       2.86e-03        SVC  StandardScaler  \n",
              "5        3.17e-05       2.86e-03        SVC            None  \n",
              "6        6.31e-05       2.86e-03        SVC  StandardScaler  \n",
              "7        1.26e-04       2.86e-03        SVC            None  \n",
              "8        3.78e-04       2.86e-03        SVC  StandardScaler  \n",
              "9        3.14e-05       2.86e-03        SVC            None  \n",
              "10       2.73e-05       2.86e-03        SVC  StandardScaler  \n",
              "11       1.50e-05       2.86e-03        SVC            None  \n",
              "12       4.90e-05       2.86e-03        SVC  StandardScaler  \n",
              "13       2.76e-04       2.86e-03        SVC            None  \n",
              "14       3.98e-05       2.86e-03        SVC  StandardScaler  \n",
              "15       1.46e-04       2.86e-03        SVC            None  \n",
              "16       6.76e-05       2.86e-03        SVC  StandardScaler  \n",
              "17       6.93e-05       2.86e-03        SVC            None  \n",
              "18       2.57e-04       2.86e-03        SVC  StandardScaler  \n",
              "19       2.89e-05       2.86e-03        SVC            None  \n",
              "\n",
              "[20 rows x 23 columns]"
            ]
          },
          "metadata": {
            "tags": []
          },
          "execution_count": 150
        }
      ]
    },
    {
      "metadata": {
        "id": "mAZxIRo3iobU",
        "colab_type": "code",
        "colab": {}
      },
      "cell_type": "code",
      "source": [
        ""
      ],
      "execution_count": 0,
      "outputs": []
    }
  ]
}