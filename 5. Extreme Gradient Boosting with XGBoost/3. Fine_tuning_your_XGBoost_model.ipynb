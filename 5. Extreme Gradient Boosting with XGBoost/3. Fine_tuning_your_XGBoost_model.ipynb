{
  "nbformat": 4,
  "nbformat_minor": 0,
  "metadata": {
    "colab": {
      "name": "Fine-tuning your XGBoost model.ipynb",
      "version": "0.3.2",
      "provenance": [],
      "include_colab_link": true
    },
    "kernelspec": {
      "name": "python3",
      "display_name": "Python 3"
    }
  },
  "cells": [
    {
      "cell_type": "markdown",
      "metadata": {
        "id": "view-in-github",
        "colab_type": "text"
      },
      "source": [
        "<a href=\"https://colab.research.google.com/github/gisandnes/Extreme-Gradient-Boosting-with-XGBoost_DataCamp/blob/master/Fine_tuning_your_XGBoost_model.ipynb\" target=\"_parent\"><img src=\"https://colab.research.google.com/assets/colab-badge.svg\" alt=\"Open In Colab\"/></a>"
      ]
    },
    {
      "metadata": {
        "id": "pukzaxtjnETW",
        "colab_type": "code",
        "colab": {
          "base_uri": "https://localhost:8080/",
          "height": 54
        },
        "outputId": "75896309-2a8c-4b1a-e703-1246c2f65dd0"
      },
      "cell_type": "code",
      "source": [
        "!mkdir -p data #Make folders for downloads\n",
        "\n",
        "#!wget --no-verbose https://raw.githubusercontent.com/gisandnes/Extreme-Gradient-Boosting-with-XGBoost_DataCamp/master/data/chronic_kidney_disease.csv -O ./data/chronic_kidney_disease.csv\n",
        "#!wget --no-verbose https://raw.githubusercontent.com/gisandnes/Extreme-Gradient-Boosting-with-XGBoost_DataCamp/master/data/ames_unprocessed_data.csv -O ./data/ames_unprocessed_data.csv \n",
        "!wget --no-verbose https://raw.githubusercontent.com/gisandnes/Extreme-Gradient-Boosting-with-XGBoost_DataCamp/master/data/ames_housing_trimmed_processed.csv -O ./data/ames_housing_trimmed_processed.csv"
      ],
      "execution_count": 1,
      "outputs": [
        {
          "output_type": "stream",
          "text": [
            "2019-01-11 15:51:44 URL:https://raw.githubusercontent.com/gisandnes/Extreme-Gradient-Boosting-with-XGBoost_DataCamp/master/data/ames_housing_trimmed_processed.csv [196754/196754] -> \"./data/ames_housing_trimmed_processed.csv\" [1]\n"
          ],
          "name": "stdout"
        }
      ]
    },
    {
      "metadata": {
        "id": "Erw9EvOVnNzI",
        "colab_type": "code",
        "colab": {}
      },
      "cell_type": "code",
      "source": [
        "from IPython.display import display\n",
        "import matplotlib\n",
        "import matplotlib.pyplot as plt \n",
        "import numpy as np\n",
        "import pandas as pd\n",
        "from sklearn.metrics import mean_squared_error\n",
        "from sklearn.model_selection import train_test_split\n",
        "from sklearn.model_selection import GridSearchCV, RandomizedSearchCV\n",
        "import xgboost as xgb\n",
        "\n",
        "%matplotlib inline"
      ],
      "execution_count": 0,
      "outputs": []
    },
    {
      "metadata": {
        "id": "yMLaMfKQnPvH",
        "colab_type": "code",
        "colab": {}
      },
      "cell_type": "code",
      "source": [
        "ames_processed  = pd.read_csv(\"./data/ames_housing_trimmed_processed.csv\")\n",
        "features = ames_processed.loc[:,\"MSSubClass\":\"PavedDrive_Y\"] # Pandas Data Frame\n",
        "response = ames_processed.loc[:,\"SalePrice\"]                 # Pandas Series\n",
        "\n",
        "# Note that we use Pandas Data Frame and Pandas Series in DMatrix, not Numpy arrays"
      ],
      "execution_count": 0,
      "outputs": []
    },
    {
      "metadata": {
        "id": "OT0cxB5Knm3L",
        "colab_type": "text"
      },
      "cell_type": "markdown",
      "source": [
        "###Automated boosting round selection using early_stopping"
      ]
    },
    {
      "metadata": {
        "id": "3F0U5K9CmzLT",
        "colab_type": "code",
        "colab": {
          "base_uri": "https://localhost:8080/",
          "height": 923
        },
        "outputId": "974b65fd-2c16-43e1-ac22-9fd24c5f9a9b"
      },
      "cell_type": "code",
      "source": [
        "# Create your housing DMatrix: housing_dmatrix\n",
        "housing_dmatrix = xgb.DMatrix(data=features, label=response)\n",
        "\n",
        "# Create the parameter dictionary for each tree: params\n",
        "params = {\"objective\":\"reg:linear\", \"max_depth\":4}\n",
        "\n",
        "# Perform cross-validation with early stopping: cv_results\n",
        "cv_results = xgb.cv(dtrain=housing_dmatrix, params=params, nfold=3, num_boost_round=50, early_stopping_rounds=10, metrics=\"rmse\", as_pandas=True, seed=123)\n",
        "\n",
        "# Print cv_results\n",
        "print(cv_results)"
      ],
      "execution_count": 14,
      "outputs": [
        {
          "output_type": "stream",
          "text": [
            "    test-rmse-mean  test-rmse-std  train-rmse-mean  train-rmse-std\n",
            "0    142640.656250     705.559400    141871.630208      403.632626\n",
            "1    104907.664063     111.113862    103057.036458       73.769561\n",
            "2     79262.059895     563.766991     75975.966146      253.726099\n",
            "3     61620.136719    1087.694282     57420.529948      521.658354\n",
            "4     50437.562500    1846.448017     44552.955729      544.170190\n",
            "5     43035.658854    2034.471024     35763.949219      681.798925\n",
            "6     38600.880208    2169.796232     29861.464844      769.571318\n",
            "7     36071.817708    2109.795430     25994.675781      756.521419\n",
            "8     34383.184896    1934.546688     23306.836588      759.238254\n",
            "9     33509.139974    1887.375633     21459.770833      745.624404\n",
            "10    32916.805990    1850.893363     20148.721354      749.612769\n",
            "11    32197.832682    1734.456935     19215.382813      641.387376\n",
            "12    31770.852865    1802.155484     18627.389323      716.256596\n",
            "13    31482.782552    1779.123767     17960.695312      557.043568\n",
            "14    31389.990234    1892.319927     17559.736979      631.412969\n",
            "15    31302.883464    1955.166046     17205.712891      590.171393\n",
            "16    31234.058594    1880.705796     16876.571940      703.631755\n",
            "17    31318.347656    1828.860164     16597.662110      703.677609\n",
            "18    31323.634766    1775.909567     16330.460937      607.274494\n",
            "19    31204.135417    1739.076156     16005.972982      520.470911\n",
            "20    31089.863932    1756.022575     15814.300781      518.604760\n",
            "21    31047.998047    1624.672407     15493.405924      505.616658\n",
            "22    31056.916667    1668.043013     15270.734375      502.018453\n",
            "23    31024.983724    1548.985354     15086.382162      503.913199\n",
            "24    30983.685547    1663.130510     14917.608399      486.206187\n",
            "25    30989.477214    1686.668050     14709.589518      449.668010\n",
            "26    30952.113932    1613.172643     14457.286133      376.787666\n",
            "27    31066.902344    1648.534310     14185.567057      383.102691\n",
            "28    31095.642578    1709.225327     13934.066732      473.465449\n",
            "29    31103.887370    1778.880069     13749.644857      473.670886\n",
            "30    30976.084635    1744.514164     13549.836589      454.898834\n",
            "31    30938.469401    1746.052597     13413.484700      399.603323\n",
            "32    30931.000000    1772.469510     13275.915364      415.408340\n",
            "33    30929.056641    1765.541578     13085.878255      493.792778\n",
            "34    30890.629557    1786.510976     12947.181315      517.790039\n",
            "35    30884.493490    1769.729143     12846.027344      547.732372\n",
            "36    30833.542318    1691.001567     12702.378581      505.523315\n",
            "37    30856.688151    1771.445059     12532.243815      508.298162\n",
            "38    30818.016927    1782.784630     12384.055013      536.225042\n",
            "39    30839.392578    1847.327022     12198.443359      545.165562\n",
            "40    30776.964844    1912.781000     12054.583659      508.841772\n",
            "41    30794.702474    1919.674832     11897.036458      477.177568\n",
            "42    30780.956380    1906.820987     11756.221354      502.992395\n",
            "43    30783.754557    1951.259784     11618.846680      519.837469\n",
            "44    30776.731120    1953.447693     11484.080404      578.428621\n",
            "45    30758.543620    1947.454953     11356.552734      565.368794\n",
            "46    30729.971354    1985.698867     11193.557943      552.299272\n",
            "47    30732.662760    1966.997355     11071.315755      604.090310\n",
            "48    30712.241536    1957.751573     10950.778320      574.862779\n",
            "49    30720.854167    1950.511057     10824.865560      576.665674\n"
          ],
          "name": "stdout"
        }
      ]
    },
    {
      "metadata": {
        "id": "16Cepndun-Aa",
        "colab_type": "text"
      },
      "cell_type": "markdown",
      "source": [
        "###Grid Search with XGBoost"
      ]
    },
    {
      "metadata": {
        "id": "gmCBqg4enZHD",
        "colab_type": "code",
        "colab": {
          "base_uri": "https://localhost:8080/",
          "height": 105
        },
        "outputId": "f1773ce7-9670-4174-f868-317719c86472"
      },
      "cell_type": "code",
      "source": [
        "# Create your housing DMatrix: housing_dmatrix\n",
        "#housing_dmatrix = xgb.DMatrix(data=features, label=response)\n",
        "\n",
        "# Create the parameter grid: gbm_param_grid\n",
        "gbm_param_grid = {\n",
        "    'colsample_bytree': [0.3, 0.7],\n",
        "    'n_estimators': [50],\n",
        "    'max_depth': [2, 5]\n",
        "}\n",
        "\n",
        "# Instantiate the regressor: gbm\n",
        "gbm = xgb.XGBRegressor()\n",
        "\n",
        "# Perform grid search: grid_mse\n",
        "grid_mse = GridSearchCV(estimator=gbm, param_grid=gbm_param_grid, scoring=\"neg_mean_squared_error\", cv=4, verbose=1)\n",
        "\n",
        "# Fit grid_mse to the data\n",
        "grid_mse.fit(features, response)\n",
        "\n",
        "# Print the best parameters and lowest RMSE\n",
        "print(\"Best parameters found: \", grid_mse.best_params_)\n",
        "print(\"Lowest RMSE found: \", np.sqrt(np.abs(grid_mse.best_score_)))"
      ],
      "execution_count": 15,
      "outputs": [
        {
          "output_type": "stream",
          "text": [
            "Fitting 4 folds for each of 4 candidates, totalling 16 fits\n"
          ],
          "name": "stdout"
        },
        {
          "output_type": "stream",
          "text": [
            "[Parallel(n_jobs=1)]: Using backend SequentialBackend with 1 concurrent workers.\n"
          ],
          "name": "stderr"
        },
        {
          "output_type": "stream",
          "text": [
            "Best parameters found:  {'colsample_bytree': 0.3, 'max_depth': 5, 'n_estimators': 50}\n",
            "Lowest RMSE found:  29655.33697347771\n"
          ],
          "name": "stdout"
        },
        {
          "output_type": "stream",
          "text": [
            "[Parallel(n_jobs=1)]: Done  16 out of  16 | elapsed:    1.4s finished\n"
          ],
          "name": "stderr"
        }
      ]
    },
    {
      "metadata": {
        "id": "ookGgZPhpneO",
        "colab_type": "text"
      },
      "cell_type": "markdown",
      "source": [
        "###Random Search with XGBoost"
      ]
    },
    {
      "metadata": {
        "id": "Gc0_iD1On7iw",
        "colab_type": "code",
        "colab": {
          "base_uri": "https://localhost:8080/",
          "height": 105
        },
        "outputId": "0a7717f1-40a9-4005-9262-f356164c6003"
      },
      "cell_type": "code",
      "source": [
        "# Create the parameter grid: gbm_param_grid \n",
        "gbm_param_grid = {\n",
        "    'n_estimators': [25],\n",
        "    'max_depth': range(2, 12)\n",
        "}\n",
        "\n",
        "# Instantiate the regressor: gbm\n",
        "gbm = xgb.XGBRegressor(n_estimators=10)\n",
        "\n",
        "# Perform random search: grid_mse\n",
        "randomized_mse = RandomizedSearchCV(estimator=gbm, param_distributions=gbm_param_grid, n_iter=5,scoring='neg_mean_squared_error', cv=4,verbose=1)\n",
        "\n",
        "\n",
        "# Fit randomized_mse to the data\n",
        "randomized_mse.fit(features, response)\n",
        "\n",
        "# Print the best parameters and lowest RMSE\n",
        "print(\"Best parameters found: \", randomized_mse.best_params_)\n",
        "print(\"Lowest RMSE found: \", np.sqrt(np.abs(randomized_mse.best_score_)))"
      ],
      "execution_count": 16,
      "outputs": [
        {
          "output_type": "stream",
          "text": [
            "[Parallel(n_jobs=1)]: Using backend SequentialBackend with 1 concurrent workers.\n"
          ],
          "name": "stderr"
        },
        {
          "output_type": "stream",
          "text": [
            "Fitting 4 folds for each of 5 candidates, totalling 20 fits\n",
            "Best parameters found:  {'n_estimators': 25, 'max_depth': 5}\n",
            "Lowest RMSE found:  36636.35808132903\n"
          ],
          "name": "stdout"
        },
        {
          "output_type": "stream",
          "text": [
            "[Parallel(n_jobs=1)]: Done  20 out of  20 | elapsed:    2.4s finished\n"
          ],
          "name": "stderr"
        }
      ]
    },
    {
      "metadata": {
        "id": "xFIQIg9sppEV",
        "colab_type": "code",
        "colab": {}
      },
      "cell_type": "code",
      "source": [
        ""
      ],
      "execution_count": 0,
      "outputs": []
    }
  ]
}